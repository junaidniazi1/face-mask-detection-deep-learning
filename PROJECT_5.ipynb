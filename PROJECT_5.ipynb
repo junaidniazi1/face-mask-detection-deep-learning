{
  "nbformat": 4,
  "nbformat_minor": 0,
  "metadata": {
    "colab": {
      "provenance": [],
      "gpuType": "T4"
    },
    "kernelspec": {
      "name": "python3",
      "display_name": "Python 3"
    },
    "language_info": {
      "name": "python"
    },
    "accelerator": "GPU"
  },
  "cells": [
    {
      "cell_type": "code",
      "execution_count": null,
      "metadata": {
        "colab": {
          "base_uri": "https://localhost:8080/"
        },
        "id": "NykjFssyfXoa",
        "outputId": "6b969756-af16-4af6-e4ab-2106f6063883"
      },
      "outputs": [
        {
          "output_type": "stream",
          "name": "stdout",
          "text": [
            "Requirement already satisfied: kaggle in /usr/local/lib/python3.12/dist-packages (1.7.4.5)\n",
            "Requirement already satisfied: bleach in /usr/local/lib/python3.12/dist-packages (from kaggle) (6.2.0)\n",
            "Requirement already satisfied: certifi>=14.05.14 in /usr/local/lib/python3.12/dist-packages (from kaggle) (2025.8.3)\n",
            "Requirement already satisfied: charset-normalizer in /usr/local/lib/python3.12/dist-packages (from kaggle) (3.4.3)\n",
            "Requirement already satisfied: idna in /usr/local/lib/python3.12/dist-packages (from kaggle) (3.10)\n",
            "Requirement already satisfied: protobuf in /usr/local/lib/python3.12/dist-packages (from kaggle) (5.29.5)\n",
            "Requirement already satisfied: python-dateutil>=2.5.3 in /usr/local/lib/python3.12/dist-packages (from kaggle) (2.9.0.post0)\n",
            "Requirement already satisfied: python-slugify in /usr/local/lib/python3.12/dist-packages (from kaggle) (8.0.4)\n",
            "Requirement already satisfied: requests in /usr/local/lib/python3.12/dist-packages (from kaggle) (2.32.4)\n",
            "Requirement already satisfied: setuptools>=21.0.0 in /usr/local/lib/python3.12/dist-packages (from kaggle) (75.2.0)\n",
            "Requirement already satisfied: six>=1.10 in /usr/local/lib/python3.12/dist-packages (from kaggle) (1.17.0)\n",
            "Requirement already satisfied: text-unidecode in /usr/local/lib/python3.12/dist-packages (from kaggle) (1.3)\n",
            "Requirement already satisfied: tqdm in /usr/local/lib/python3.12/dist-packages (from kaggle) (4.67.1)\n",
            "Requirement already satisfied: urllib3>=1.15.1 in /usr/local/lib/python3.12/dist-packages (from kaggle) (2.5.0)\n",
            "Requirement already satisfied: webencodings in /usr/local/lib/python3.12/dist-packages (from kaggle) (0.5.1)\n"
          ]
        }
      ],
      "source": [
        "!pip install kaggle"
      ]
    },
    {
      "cell_type": "markdown",
      "source": [
        "# importing the dataset"
      ],
      "metadata": {
        "id": "rDrvvex1hknR"
      }
    },
    {
      "cell_type": "code",
      "source": [
        "# -----------------------------------------------------------\n",
        "# ✅ Step 1: Create a hidden directory named \".kaggle\"\n",
        "#    inside your home directory (~).\n",
        "#    This folder stores your Kaggle API key securely.\n",
        "# -----------------------------------------------------------\n",
        "!mkdir -p ~/.kaggle\n",
        "\n",
        "# -----------------------------------------------------------\n",
        "# ✅ Step 2: Copy the \"kaggle.json\" file (your Kaggle API key)\n",
        "#    into the newly created ~/.kaggle directory.\n",
        "#    Make sure kaggle.json is in your current working directory before running this.\n",
        "# -----------------------------------------------------------\n",
        "!cp kaggle.json ~/.kaggle/\n",
        "\n",
        "# -----------------------------------------------------------\n",
        "# ✅ Step 3: Change file permissions for kaggle.json.\n",
        "#    This ensures only you (the current user) can read and write it.\n",
        "#    Kaggle API requires this secure permission level (600).\n",
        "# -----------------------------------------------------------\n",
        "!chmod 600 ~/.kaggle/kaggle.json\n"
      ],
      "metadata": {
        "id": "aG2MvZj-hiPk"
      },
      "execution_count": null,
      "outputs": []
    },
    {
      "cell_type": "code",
      "source": [
        "!kaggle datasets download -d omkargurav/face-mask-dataset"
      ],
      "metadata": {
        "colab": {
          "base_uri": "https://localhost:8080/"
        },
        "id": "JPeuhJVqhwRG",
        "outputId": "87763abf-d245-4a67-f15a-67ebfd5602f7"
      },
      "execution_count": null,
      "outputs": [
        {
          "output_type": "stream",
          "name": "stdout",
          "text": [
            "Dataset URL: https://www.kaggle.com/datasets/omkargurav/face-mask-dataset\n",
            "License(s): unknown\n",
            "face-mask-dataset.zip: Skipping, found more recently modified local copy (use --force to force download)\n"
          ]
        }
      ]
    },
    {
      "cell_type": "code",
      "source": [
        "# -----------------------------------------------------------\n",
        "# ✅ Step 1: Import the ZipFile class from the zipfile module.\n",
        "#    This module is part of Python’s standard library and\n",
        "#    allows you to work with ZIP archive files (extract, create, etc.).\n",
        "# -----------------------------------------------------------\n",
        "from zipfile import ZipFile\n",
        "\n",
        "# -----------------------------------------------------------\n",
        "# ✅ Step 2: Specify the ZIP file name you want to extract.\n",
        "#    Make sure \"face-mask-dataset.zip\" exists in your working directory.\n",
        "# -----------------------------------------------------------\n",
        "dataset = \"face-mask-dataset.zip\"\n",
        "\n",
        "# -----------------------------------------------------------\n",
        "# ✅ Step 3: Open the ZIP file in read ('r') mode using a context manager.\n",
        "#    This ensures the file is automatically closed after extraction.\n",
        "# -----------------------------------------------------------\n",
        "with ZipFile(dataset, 'r') as zip:\n",
        "\n",
        "    # ✅ Step 4: Extract all files from the ZIP archive\n",
        "    #    into the current working directory.\n",
        "    zip.extractall()\n",
        "\n",
        "    # ✅ Step 5: Print a confirmation message when extraction is complete.\n",
        "    print('✅ Extraction complete! All files have been unpacked successfully.')\n"
      ],
      "metadata": {
        "colab": {
          "base_uri": "https://localhost:8080/"
        },
        "id": "HOlmxiwTiGr_",
        "outputId": "fb1ef755-909a-4af3-d562-4ac0a9aef10a"
      },
      "execution_count": null,
      "outputs": [
        {
          "output_type": "stream",
          "name": "stdout",
          "text": [
            "✅ Extraction complete! All files have been unpacked successfully.\n"
          ]
        }
      ]
    },
    {
      "cell_type": "code",
      "source": [
        "!ls"
      ],
      "metadata": {
        "colab": {
          "base_uri": "https://localhost:8080/"
        },
        "id": "xZJrbjjgijbq",
        "outputId": "5ee0f058-0d0b-45ee-c6a4-62709b445ea6"
      },
      "execution_count": null,
      "outputs": [
        {
          "output_type": "stream",
          "name": "stdout",
          "text": [
            "data  face-mask-dataset.zip  kaggle.json  sample_data\n"
          ]
        }
      ]
    },
    {
      "cell_type": "markdown",
      "source": [
        "# importing the dependecies"
      ],
      "metadata": {
        "id": "8LXinV4nka7w"
      }
    },
    {
      "cell_type": "code",
      "source": [
        "# -----------------------------------------------------------\n",
        "# ✅ Step 1: Import essential Python libraries\n",
        "# -----------------------------------------------------------\n",
        "\n",
        "# 📁 'os' is used for interacting with the operating system.\n",
        "#     Helps in navigating directories, reading file paths, etc.\n",
        "import os\n",
        "\n",
        "# 🔢 'numpy' is used for numerical operations and array manipulation.\n",
        "#     It’s essential for handling image data as numerical arrays.\n",
        "import numpy as np\n",
        "\n",
        "# 🎨 'matplotlib.pyplot' is used for visualizing data.\n",
        "#     Commonly used to plot graphs or show images.\n",
        "import matplotlib.pyplot as plt\n",
        "\n",
        "# 🖼️ 'matplotlib.image' (mpimg) helps in reading and displaying image files.\n",
        "#     You can load images directly as arrays using mpimg.imread().\n",
        "import matplotlib.image as mpimg\n",
        "\n",
        "# 📷 'cv2' (OpenCV) is a powerful library for image processing.\n",
        "#     You can resize, crop, apply filters, convert color formats, etc.\n",
        "import cv2\n",
        "\n",
        "# 🎲 'random' is used for generating random numbers or selecting random samples.\n",
        "#     Useful for data augmentation or visualizing random dataset samples.\n",
        "import random\n",
        "\n",
        "# 💾 'pickle' is used for saving and loading Python objects in binary format.\n",
        "#     Often used to store preprocessed data, trained models, or label encoders.\n",
        "import pickle\n",
        "\n",
        "# 👁️ 'google.colab.patches' provides a function (cv2_imshow)\n",
        "#     to display OpenCV images properly inside Google Colab notebooks.\n",
        "#     (Normal cv2.imshow() doesn’t work in Colab.)\n",
        "from google.colab.patches import cv2_imshow\n",
        "from sklearn.model_selection import train_test_split\n"
      ],
      "metadata": {
        "id": "HO8zTDaNitej"
      },
      "execution_count": null,
      "outputs": []
    },
    {
      "cell_type": "code",
      "source": [
        "# -----------------------------------------------------------\n",
        "# ✅ Step 1: List all image files inside the folder 'with_mask'\n",
        "# -----------------------------------------------------------\n",
        "\n",
        "# 'os.listdir()' returns a list of all files and folders inside a given directory.\n",
        "# Here, we are listing all images stored in the \"with_mask\" subfolder.\n",
        "# Make sure the path '/content/data/with_mask' exists (this is typical in Google Colab).\n",
        "with_mask_files = os.listdir('/content/data/with_mask')\n",
        "\n",
        "# -----------------------------------------------------------\n",
        "# ✅ Step 2: Print the first 5 file names in the list\n",
        "# -----------------------------------------------------------\n",
        "\n",
        "# This helps you verify that the directory contains the expected image files.\n",
        "print(with_mask_files[0:5])  # Display the first 5 image file names\n",
        "\n",
        "# -----------------------------------------------------------\n",
        "# ✅ Step 3: Print the last 5 file names in the list\n",
        "# -----------------------------------------------------------\n",
        "\n",
        "# This ensures you’re seeing both the start and end of the dataset list,\n",
        "# confirming that files have been read correctly.\n",
        "print(with_mask_files[-5:])  # Display the last 5 image file names\n"
      ],
      "metadata": {
        "colab": {
          "base_uri": "https://localhost:8080/"
        },
        "id": "6uldM4fBlGFo",
        "outputId": "8766a04e-14a6-4bdf-d315-921487b305ca"
      },
      "execution_count": null,
      "outputs": [
        {
          "output_type": "stream",
          "name": "stdout",
          "text": [
            "['with_mask_556.jpg', 'with_mask_2161.jpg', 'with_mask_1316.jpg', 'with_mask_2743.jpg', 'with_mask_570.jpg']\n",
            "['with_mask_709.jpg', 'with_mask_1027.jpg', 'with_mask_2178.jpg', 'with_mask_816.jpg', 'with_mask_336.jpg']\n"
          ]
        }
      ]
    },
    {
      "cell_type": "code",
      "source": [
        "without_mask_files=os.listdir('/content/data/without_mask')\n",
        "print(without_mask_files[0:5])\n",
        "print(without_mask_files[-5:])"
      ],
      "metadata": {
        "colab": {
          "base_uri": "https://localhost:8080/"
        },
        "id": "oV2I1snplzXr",
        "outputId": "86f2e954-37ae-4034-d452-2fd6e31a1732"
      },
      "execution_count": null,
      "outputs": [
        {
          "output_type": "stream",
          "name": "stdout",
          "text": [
            "['without_mask_619.jpg', 'without_mask_190.jpg', 'without_mask_3355.jpg', 'without_mask_2873.jpg', 'without_mask_1307.jpg']\n",
            "['without_mask_236.jpg', 'without_mask_3395.jpg', 'without_mask_1149.jpg', 'without_mask_290.jpg', 'without_mask_1901.jpg']\n"
          ]
        }
      ]
    },
    {
      "cell_type": "code",
      "source": [
        "# -----------------------------------------------------------\n",
        "# ✅ Count how many image files are in the 'with_mask' folder\n",
        "# -----------------------------------------------------------\n",
        "\n",
        "# len() returns the total number of elements in a list.\n",
        "# Since 'with_mask_files' contains all filenames, we can use len() to count them.\n",
        "num_with_mask = len(with_mask_files)\n",
        "num_without_mask = len(without_mask_files)\n",
        "# -----------------------------------------------------------\n",
        "# ✅ Print the result\n",
        "# -----------------------------------------------------------\n",
        "print(f\"Total number of images in 'with_mask' folder: {num_with_mask}\")\n",
        "print(f\"Total number of images in 'without_mask' folder: {num_without_mask}\")"
      ],
      "metadata": {
        "colab": {
          "base_uri": "https://localhost:8080/"
        },
        "id": "u3ny1bkDmJrD",
        "outputId": "35dbc820-33df-4e73-f633-01a00df4c87c"
      },
      "execution_count": null,
      "outputs": [
        {
          "output_type": "stream",
          "name": "stdout",
          "text": [
            "Total number of images in 'with_mask' folder: 3725\n",
            "Total number of images in 'without_mask' folder: 3828\n"
          ]
        }
      ]
    },
    {
      "cell_type": "markdown",
      "source": [
        "#LABELING THE DATAA"
      ],
      "metadata": {
        "id": "t7n-qOO0noVO"
      }
    },
    {
      "cell_type": "code",
      "source": [
        "# -----------------------------------------------------------\n",
        "# ✅ Step 1: Create labels for each image category manually\n",
        "# -----------------------------------------------------------\n",
        "\n",
        "# For \"with_mask\" images:\n",
        "# There are 3,725 images — each should have the label 1\n",
        "with_mask_label = [1] * 3725   # creates [1, 1, 1, ..., 1] (3725 times)\n",
        "\n",
        "# For \"without_mask\" images:\n",
        "# There are 3,828 images — each should have the label 0\n",
        "without_mask_label = [0] * 3828  # creates [0, 0, 0, ..., 0] (3828 times)\n",
        "\n",
        "# -----------------------------------------------------------\n",
        "# ✅ Step 2: Verify the label lengths\n",
        "# -----------------------------------------------------------\n",
        "print(\"Number of 'with_mask' labels:\", len(with_mask_label))\n",
        "print(\"Number of 'without_mask' labels:\", len(without_mask_label))\n"
      ],
      "metadata": {
        "colab": {
          "base_uri": "https://localhost:8080/"
        },
        "id": "--nV2z0_mTNH",
        "outputId": "695d2823-4783-40cc-c7e5-0b801c756e23"
      },
      "execution_count": null,
      "outputs": [
        {
          "output_type": "stream",
          "name": "stdout",
          "text": [
            "Number of 'with_mask' labels: 3725\n",
            "Number of 'without_mask' labels: 3828\n"
          ]
        }
      ]
    },
    {
      "cell_type": "code",
      "source": [
        "print(with_mask_label[0:5])\n",
        "print(without_mask_label[0:5])\n",
        "print(len(with_mask_label))\n",
        "print(len(without_mask_label))"
      ],
      "metadata": {
        "colab": {
          "base_uri": "https://localhost:8080/"
        },
        "id": "vtldQBZ9o_Dm",
        "outputId": "f138dcd7-91d5-43ae-f7e9-76c5aa633cfd"
      },
      "execution_count": null,
      "outputs": [
        {
          "output_type": "stream",
          "name": "stdout",
          "text": [
            "[1, 1, 1, 1, 1]\n",
            "[0, 0, 0, 0, 0]\n",
            "3725\n",
            "3828\n"
          ]
        }
      ]
    },
    {
      "cell_type": "code",
      "source": [
        "# -----------------------------------------------------------\n",
        "# ✅ Step 1: Combine labels of both classes into one list\n",
        "# -----------------------------------------------------------\n",
        "\n",
        "# '+' operator concatenates the two label lists.\n",
        "# First part: all 1s for \"with_mask\"\n",
        "# Second part: all 0s for \"without_mask\"\n",
        "labels = with_mask_label + without_mask_label\n",
        "\n",
        "# -----------------------------------------------------------\n",
        "# ✅ Step 2: Check the total number of labels\n",
        "# -----------------------------------------------------------\n",
        "\n",
        "# len(labels) gives the total number of images (both classes combined)\n",
        "print(\"Total number of labels:\", len(labels))\n",
        "\n",
        "# -----------------------------------------------------------\n",
        "# ✅ Step 3: Preview some labels from the start and end\n",
        "# -----------------------------------------------------------\n",
        "\n",
        "# First 5 labels → should be [1, 1, 1, 1, 1] (from 'with_mask')\n",
        "print(\"First 5 labels:\", labels[0:5])\n",
        "\n",
        "# Last 5 labels → should be [0, 0, 0, 0, 0] (from 'without_mask')\n",
        "print(\"Last 5 labels:\", labels[-5:])\n"
      ],
      "metadata": {
        "colab": {
          "base_uri": "https://localhost:8080/"
        },
        "id": "cIKtZbWApBFH",
        "outputId": "6db32f20-bf91-4252-b141-02cddd3dc561"
      },
      "execution_count": null,
      "outputs": [
        {
          "output_type": "stream",
          "name": "stdout",
          "text": [
            "Total number of labels: 7553\n",
            "First 5 labels: [1, 1, 1, 1, 1]\n",
            "Last 5 labels: [0, 0, 0, 0, 0]\n"
          ]
        }
      ]
    },
    {
      "cell_type": "markdown",
      "source": [
        "# displying the with mask image"
      ],
      "metadata": {
        "id": "iWOK4hG3qdFd"
      }
    },
    {
      "cell_type": "code",
      "source": [
        "img=mpimg.imread('/content/data/with_mask/with_mask_100.jpg')\n",
        "imgplot=plt.imshow(img)\n",
        "plt.show"
      ],
      "metadata": {
        "colab": {
          "base_uri": "https://localhost:8080/",
          "height": 604
        },
        "id": "Dl2fbJEupynk",
        "outputId": "5475d87f-060c-416f-886b-00ea5978ceb2"
      },
      "execution_count": null,
      "outputs": [
        {
          "output_type": "execute_result",
          "data": {
            "text/plain": [
              "<function matplotlib.pyplot.show(close=None, block=None)>"
            ],
            "text/html": [
              "<div style=\"max-width:800px; border: 1px solid var(--colab-border-color);\"><style>\n",
              "      pre.function-repr-contents {\n",
              "        overflow-x: auto;\n",
              "        padding: 8px 12px;\n",
              "        max-height: 500px;\n",
              "      }\n",
              "\n",
              "      pre.function-repr-contents.function-repr-contents-collapsed {\n",
              "        cursor: pointer;\n",
              "        max-height: 100px;\n",
              "      }\n",
              "    </style>\n",
              "    <pre style=\"white-space: initial; background:\n",
              "         var(--colab-secondary-surface-color); padding: 8px 12px;\n",
              "         border-bottom: 1px solid var(--colab-border-color);\"><b>matplotlib.pyplot.show</b><br/>def show(*args, **kwargs) -&gt; None</pre><pre class=\"function-repr-contents function-repr-contents-collapsed\" style=\"\"><a class=\"filepath\" style=\"display:none\" href=\"#\">/usr/local/lib/python3.12/dist-packages/matplotlib/pyplot.py</a>Display all open figures.\n",
              "\n",
              "Parameters\n",
              "----------\n",
              "block : bool, optional\n",
              "    Whether to wait for all figures to be closed before returning.\n",
              "\n",
              "    If `True` block and run the GUI main loop until all figure windows\n",
              "    are closed.\n",
              "\n",
              "    If `False` ensure that all figure windows are displayed and return\n",
              "    immediately.  In this case, you are responsible for ensuring\n",
              "    that the event loop is running to have responsive figures.\n",
              "\n",
              "    Defaults to True in non-interactive mode and to False in interactive\n",
              "    mode (see `.pyplot.isinteractive`).\n",
              "\n",
              "See Also\n",
              "--------\n",
              "ion : Enable interactive mode, which shows / updates the figure after\n",
              "      every plotting command, so that calling ``show()`` is not necessary.\n",
              "ioff : Disable interactive mode.\n",
              "savefig : Save the figure to an image file instead of showing it on screen.\n",
              "\n",
              "Notes\n",
              "-----\n",
              "**Saving figures to file and showing a window at the same time**\n",
              "\n",
              "If you want an image file as well as a user interface window, use\n",
              "`.pyplot.savefig` before `.pyplot.show`. At the end of (a blocking)\n",
              "``show()`` the figure is closed and thus unregistered from pyplot. Calling\n",
              "`.pyplot.savefig` afterwards would save a new and thus empty figure. This\n",
              "limitation of command order does not apply if the show is non-blocking or\n",
              "if you keep a reference to the figure and use `.Figure.savefig`.\n",
              "\n",
              "**Auto-show in jupyter notebooks**\n",
              "\n",
              "The jupyter backends (activated via ``%matplotlib inline``,\n",
              "``%matplotlib notebook``, or ``%matplotlib widget``), call ``show()`` at\n",
              "the end of every cell by default. Thus, you usually don&#x27;t have to call it\n",
              "explicitly there.</pre>\n",
              "      <script>\n",
              "      if (google.colab.kernel.accessAllowed && google.colab.files && google.colab.files.view) {\n",
              "        for (const element of document.querySelectorAll('.filepath')) {\n",
              "          element.style.display = 'block'\n",
              "          element.onclick = (event) => {\n",
              "            event.preventDefault();\n",
              "            event.stopPropagation();\n",
              "            google.colab.files.view(element.textContent, 569);\n",
              "          };\n",
              "        }\n",
              "      }\n",
              "      for (const element of document.querySelectorAll('.function-repr-contents')) {\n",
              "        element.onclick = (event) => {\n",
              "          event.preventDefault();\n",
              "          event.stopPropagation();\n",
              "          element.classList.toggle('function-repr-contents-collapsed');\n",
              "        };\n",
              "      }\n",
              "      </script>\n",
              "      </div>"
            ]
          },
          "metadata": {},
          "execution_count": 14
        },
        {
          "output_type": "display_data",
          "data": {
            "text/plain": [
              "<Figure size 640x480 with 1 Axes>"
            ],
            "image/png": "[encoded data removed]"
          },
          "metadata": {}
        }
      ]
    },
    {
      "cell_type": "markdown",
      "source": [
        "# image processing"
      ],
      "metadata": {
        "id": "4GRXBOzusZWS"
      }
    },
    {
      "cell_type": "code",
      "source": [
        "# -----------------------------------------------------------\n",
        "# 🧠 FACE MASK DETECTION — DATA AUGMENTATION & PREPROCESSING\n",
        "# -----------------------------------------------------------\n",
        "# In this section, we will:\n",
        "# 1. Load images from both 'with_mask' and 'without_mask' folders.\n",
        "# 2. Resize each image to a fixed shape (100x100).\n",
        "# 3. Apply data augmentation to make the model more robust.\n",
        "# 4. Convert all processed images and labels into NumPy arrays.\n",
        "# -----------------------------------------------------------\n",
        "\n",
        "# -----------------------------------------------------------\n",
        "# ✅ Step 1: Import all necessary libraries\n",
        "# -----------------------------------------------------------\n",
        "import os                      # For handling file and folder paths\n",
        "import cv2                     # OpenCV library for reading and processing images\n",
        "import numpy as np              # For numerical operations and array handling\n",
        "import random                   # For random operations (e.g., shuffling)\n",
        "from tensorflow.keras.preprocessing.image import ImageDataGenerator\n",
        "# ImageDataGenerator is used to perform data augmentation automatically.\n",
        "\n",
        "# -----------------------------------------------------------\n",
        "# ✅ Step 2: Define the dataset paths (folders containing images)\n",
        "# -----------------------------------------------------------\n",
        "# The dataset contains two categories:\n",
        "# - with_mask: people wearing masks\n",
        "# - without_mask: people not wearing masks\n",
        "\n",
        "with_mask_path = '/content/data/with_mask'        # Path to folder with mask images\n",
        "without_mask_path = '/content/data/without_mask'  # Path to folder without mask images\n",
        "\n",
        "# -----------------------------------------------------------\n",
        "# ✅ Step 3: Create empty lists to store image data and labels\n",
        "# -----------------------------------------------------------\n",
        "data = []     # Will hold all image arrays\n",
        "labels = []   # Will hold corresponding class labels (1 for mask, 0 for no mask)\n",
        "\n",
        "# -----------------------------------------------------------\n",
        "# ✅ Step 4: Initialize ImageDataGenerator for data augmentation\n",
        "# -----------------------------------------------------------\n",
        "# This generator will apply small random changes to the images (rotations, flips, zooms, etc.)\n",
        "# It helps the model generalize better and not overfit.\n",
        "datagen = ImageDataGenerator(\n",
        "    rotation_range=20,        # Randomly rotate the image up to 20 degrees\n",
        "    width_shift_range=0.1,    # Shift the image horizontally by up to 10%\n",
        "    height_shift_range=0.1,   # Shift the image vertically by up to 10%\n",
        "    shear_range=0.1,          # Apply shear transformation\n",
        "    zoom_range=0.1,           # Zoom into the image randomly up to 10%\n",
        "    horizontal_flip=True,     # Flip image horizontally (mirror)\n",
        "    fill_mode='nearest'       # Fill empty pixels created during transformations\n",
        ")\n",
        "\n",
        "# -----------------------------------------------------------\n",
        "# ✅ Step 5: Define a helper function to load and preprocess images\n",
        "# -----------------------------------------------------------\n",
        "def load_and_preprocess_images(folder_path, label):\n",
        "    \"\"\"\n",
        "    Loads images from the given folder, resizes them, augments them,\n",
        "    and appends them to global data and labels lists.\n",
        "\n",
        "    Parameters:\n",
        "    folder_path (str): Path to the folder containing images\n",
        "    label (int): Numeric label (1 = with mask, 0 = without mask)\n",
        "    \"\"\"\n",
        "    # Loop through all files (images) in the folder\n",
        "    for file in os.listdir(folder_path):\n",
        "        try:\n",
        "            # Get the full image path\n",
        "            img_path = os.path.join(folder_path, file)\n",
        "\n",
        "            # Read the image using OpenCV\n",
        "            img = cv2.imread(img_path)\n",
        "\n",
        "            # Proceed only if the image is successfully read\n",
        "            if img is not None:\n",
        "                # Resize image to a fixed size (100x100 pixels)\n",
        "                img = cv2.resize(img, (100, 100))\n",
        "\n",
        "                # Convert image color from BGR (default OpenCV format) to RGB\n",
        "                img = cv2.cvtColor(img, cv2.COLOR_BGR2RGB)\n",
        "\n",
        "                # Add the original image to data list\n",
        "                data.append(img)\n",
        "\n",
        "                # Add corresponding label to labels list\n",
        "                labels.append(label)\n",
        "\n",
        "                # -----------------------------------------------------------\n",
        "                # 🌀 Data Augmentation (Create 1 additional augmented image)\n",
        "                # -----------------------------------------------------------\n",
        "                # Expand dimensions to match generator input shape (1, 100, 100, 3)\n",
        "                img_expanded = np.expand_dims(img, axis=0)\n",
        "\n",
        "                # Generate one augmented image using datagen\n",
        "                for batch in datagen.flow(img_expanded, batch_size=1):\n",
        "                    # Add the augmented image to data list\n",
        "                    data.append(batch[0].astype('uint8'))\n",
        "                    # Add the same label for augmented image\n",
        "                    labels.append(label)\n",
        "                    break  # Only generate one new image per original image\n",
        "        except Exception as e:\n",
        "            # If any error occurs (like unreadable image), print it and skip that file\n",
        "            print(f\"Error loading image {file}: {e}\")\n",
        "\n",
        "# -----------------------------------------------------------\n",
        "# ✅ Step 6: Load images for both categories\n",
        "# -----------------------------------------------------------\n",
        "print(\"Loading 'with_mask' images...\")\n",
        "load_and_preprocess_images(with_mask_path, 1)   # Label = 1 for with_mask\n",
        "\n",
        "print(\"Loading 'without_mask' images...\")\n",
        "load_and_preprocess_images(without_mask_path, 0) # Label = 0 for without_mask\n",
        "\n",
        "# -----------------------------------------------------------\n",
        "# ✅ Step 7: Convert lists into NumPy arrays for ML model input\n",
        "# -----------------------------------------------------------\n",
        "# Convert data and labels to NumPy format (used in TensorFlow/Keras)\n",
        "X = np.array(data)   # Image data array\n",
        "y = np.array(labels) # Corresponding labels\n",
        "\n",
        "# -----------------------------------------------------------\n",
        "# ✅ Step 8: Display dataset information\n",
        "# -----------------------------------------------------------\n",
        "print(\"✅ Data augmentation and preprocessing complete!\")\n",
        "print(\"Total number of images:\", X.shape[0])   # Total count of all (original + augmented) images\n",
        "print(\"Image shape:\", X.shape[1:])             # Each image's dimensions (height, width, channels)\n",
        "print(\"Labels shape:\", y.shape)                # Total count of labels (same as total images)\n"
      ],
      "metadata": {
        "colab": {
          "base_uri": "https://localhost:8080/"
        },
        "id": "Z7ddCgbIq9xp",
        "outputId": "7ef18e1f-957e-445a-df03-70702a0e78e4"
      },
      "execution_count": null,
      "outputs": [
        {
          "output_type": "stream",
          "name": "stdout",
          "text": [
            "Loading 'with_mask' images...\n",
            "Loading 'without_mask' images...\n",
            "✅ Data augmentation and preprocessing complete!\n",
            "Total number of images: 15106\n",
            "Image shape: (100, 100, 3)\n",
            "Labels shape: (15106,)\n"
          ]
        }
      ]
    },
    {
      "cell_type": "code",
      "source": [
        "data[0].shape"
      ],
      "metadata": {
        "colab": {
          "base_uri": "https://localhost:8080/"
        },
        "id": "97IpL2but4P8",
        "outputId": "3058b7d4-e14f-47fe-b707-dca27a9f3997"
      },
      "execution_count": null,
      "outputs": [
        {
          "output_type": "execute_result",
          "data": {
            "text/plain": [
              "(100, 100, 3)"
            ]
          },
          "metadata": {},
          "execution_count": 16
        }
      ]
    },
    {
      "cell_type": "code",
      "source": [
        "type(X)"
      ],
      "metadata": {
        "colab": {
          "base_uri": "https://localhost:8080/"
        },
        "id": "ir2B6chtv_zH",
        "outputId": "4e9e7856-88bb-41e8-c726-f5e7f5655e21"
      },
      "execution_count": null,
      "outputs": [
        {
          "output_type": "execute_result",
          "data": {
            "text/plain": [
              "numpy.ndarray"
            ]
          },
          "metadata": {},
          "execution_count": 17
        }
      ]
    },
    {
      "cell_type": "markdown",
      "source": [
        "# train test split"
      ],
      "metadata": {
        "id": "9xADb0DowgjQ"
      }
    },
    {
      "cell_type": "code",
      "source": [
        "# -----------------------------------------------------------\n",
        "# ✅ Step 8: Train-Test Split\n",
        "# -----------------------------------------------------------\n",
        "\n",
        "from sklearn.model_selection import train_test_split\n",
        "\n",
        "# Split data first (before normalization)\n",
        "X_train, X_test, y_train, y_test = train_test_split(\n",
        "    X, y, test_size=0.2, random_state=42, shuffle=True\n",
        ")\n",
        "\n",
        "# -----------------------------------------------------------\n",
        "# ✅ Step 9: Normalize both training and testing data\n",
        "# -----------------------------------------------------------\n",
        "\n",
        "# Pixel values are between 0–255 → scale to 0–1\n",
        "X_train = X_train / 255.0\n",
        "X_test = X_test / 255.0\n",
        "\n",
        "# -----------------------------------------------------------\n",
        "# ✅ Step 10: Verify shapes and scaling\n",
        "# -----------------------------------------------------------\n",
        "print(\"✅ Dataset successfully split and normalized!\")\n",
        "print(\"Training data shape:\", X_train.shape)\n",
        "print(\"Testing data shape:\", X_test.shape)\n",
        "print(\"Training labels shape:\", y_train.shape)\n",
        "print(\"Testing labels shape:\", y_test.shape)\n",
        "\n",
        "# Optional: Check min and max values to confirm normalization\n",
        "print(\"Min pixel value:\", X_train.min(), \"| Max pixel value:\", X_train.max())\n"
      ],
      "metadata": {
        "colab": {
          "base_uri": "https://localhost:8080/"
        },
        "id": "uzebGicxwJj2",
        "outputId": "19d6bb0d-8eee-4681-aba1-615a90e1a894"
      },
      "execution_count": null,
      "outputs": [
        {
          "output_type": "stream",
          "name": "stdout",
          "text": [
            "✅ Dataset successfully split and normalized!\n",
            "Training data shape: (12084, 100, 100, 3)\n",
            "Testing data shape: (3022, 100, 100, 3)\n",
            "Training labels shape: (12084,)\n",
            "Testing labels shape: (3022,)\n",
            "Min pixel value: 0.0 | Max pixel value: 1.0\n"
          ]
        }
      ]
    },
    {
      "cell_type": "code",
      "source": [
        "data[0]"
      ],
      "metadata": {
        "colab": {
          "base_uri": "https://localhost:8080/",
          "height": 140
        },
        "id": "yYQNd_OwwjI6",
        "outputId": "81e12766-86bc-46eb-8991-a6d8b716a95e"
      },
      "execution_count": null,
      "outputs": [
        {
          "output_type": "execute_result",
          "data": {
            "text/plain": [
              "array([[[ 88, 122, 108],\n",
              "        [ 82, 108,  92],\n",
              "        [ 48,  50,  52],\n",
              "        ...,\n",
              "        [ 33,  30,  37],\n",
              "        [ 33,  30,  37],\n",
              "        [ 30,  29,  35]],\n",
              "\n",
              "       [[128, 159, 154],\n",
              "        [ 64,  89,  81],\n",
              "        [ 33,  32,  38],\n",
              "        ...,\n",
              "        [ 30,  29,  35],\n",
              "        [ 31,  30,  36],\n",
              "        [ 32,  31,  37]],\n",
              "\n",
              "       [[130, 154, 156],\n",
              "        [106, 125, 123],\n",
              "        [ 52,  57,  57],\n",
              "        ...,\n",
              "        [ 31,  30,  36],\n",
              "        [ 29,  28,  34],\n",
              "        [ 32,  31,  37]],\n",
              "\n",
              "       ...,\n",
              "\n",
              "       [[200, 104,  88],\n",
              "        [188,  85,  70],\n",
              "        [177,  71,  58],\n",
              "        ...,\n",
              "        [216, 217, 212],\n",
              "        [214, 215, 210],\n",
              "        [216, 217, 212]],\n",
              "\n",
              "       [[193,  90,  75],\n",
              "        [187,  81,  67],\n",
              "        [168,  62,  51],\n",
              "        ...,\n",
              "        [216, 217, 212],\n",
              "        [217, 218, 213],\n",
              "        [217, 218, 213]],\n",
              "\n",
              "       [[201, 101,  85],\n",
              "        [195,  89,  75],\n",
              "        [170,  62,  49],\n",
              "        ...,\n",
              "        [214, 215, 210],\n",
              "        [215, 216, 211],\n",
              "        [220, 221, 216]]], dtype=uint8)"
            ],
            "text/html": [
              "<style>\n",
              "      .ndarray_repr .ndarray_raw_data {\n",
              "        display: none;\n",
              "      }\n",
              "      .ndarray_repr.show_array .ndarray_raw_data {\n",
              "        display: block;\n",
              "      }\n",
              "      .ndarray_repr.show_array .ndarray_image_preview {\n",
              "        display: none;\n",
              "      }\n",
              "      </style>\n",
              "      <div id=\"id-abc0dce1-98d2-4a0b-b9d0-53acba9ceb96\" class=\"ndarray_repr\"><pre>ndarray (100, 100, 3) <button style=\"padding: 0 2px;\">show data</button></pre><img src=\"data:image/png;base64,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\" class=\"ndarray_image_preview\" /><pre class=\"ndarray_raw_data\">array([[[ 88, 122, 108],\n",
              "        [ 82, 108,  92],\n",
              "        [ 48,  50,  52],\n",
              "        ...,\n",
              "        [ 33,  30,  37],\n",
              "        [ 33,  30,  37],\n",
              "        [ 30,  29,  35]],\n",
              "\n",
              "       [[128, 159, 154],\n",
              "        [ 64,  89,  81],\n",
              "        [ 33,  32,  38],\n",
              "        ...,\n",
              "        [ 30,  29,  35],\n",
              "        [ 31,  30,  36],\n",
              "        [ 32,  31,  37]],\n",
              "\n",
              "       [[130, 154, 156],\n",
              "        [106, 125, 123],\n",
              "        [ 52,  57,  57],\n",
              "        ...,\n",
              "        [ 31,  30,  36],\n",
              "        [ 29,  28,  34],\n",
              "        [ 32,  31,  37]],\n",
              "\n",
              "       ...,\n",
              "\n",
              "       [[200, 104,  88],\n",
              "        [188,  85,  70],\n",
              "        [177,  71,  58],\n",
              "        ...,\n",
              "        [216, 217, 212],\n",
              "        [214, 215, 210],\n",
              "        [216, 217, 212]],\n",
              "\n",
              "       [[193,  90,  75],\n",
              "        [187,  81,  67],\n",
              "        [168,  62,  51],\n",
              "        ...,\n",
              "        [216, 217, 212],\n",
              "        [217, 218, 213],\n",
              "        [217, 218, 213]],\n",
              "\n",
              "       [[201, 101,  85],\n",
              "        [195,  89,  75],\n",
              "        [170,  62,  49],\n",
              "        ...,\n",
              "        [214, 215, 210],\n",
              "        [215, 216, 211],\n",
              "        [220, 221, 216]]], dtype=uint8)</pre></div><script>\n",
              "      (() => {\n",
              "      const titles = ['show data', 'hide data'];\n",
              "      let index = 0\n",
              "      document.querySelector('#id-abc0dce1-98d2-4a0b-b9d0-53acba9ceb96 button').onclick = (e) => {\n",
              "        document.querySelector('#id-abc0dce1-98d2-4a0b-b9d0-53acba9ceb96').classList.toggle('show_array');\n",
              "        index = (++index) % 2;\n",
              "        document.querySelector('#id-abc0dce1-98d2-4a0b-b9d0-53acba9ceb96 button').textContent = titles[index];\n",
              "        e.preventDefault();\n",
              "        e.stopPropagation();\n",
              "      }\n",
              "      })();\n",
              "    </script>"
            ]
          },
          "metadata": {},
          "execution_count": 19
        }
      ]
    },
    {
      "cell_type": "markdown",
      "source": [
        "# building the neural network"
      ],
      "metadata": {
        "id": "w3QlTnucxwG2"
      }
    },
    {
      "cell_type": "code",
      "source": [
        "# -----------------------------------------------------------\n",
        "# ✅ Step 11: Building the CNN Model\n",
        "# -----------------------------------------------------------\n",
        "\n",
        "from tensorflow.keras.models import Sequential\n",
        "from tensorflow.keras.layers import Conv2D, MaxPooling2D, Flatten, Dense, Dropout, BatchNormalization\n",
        "\n",
        "# Initialize the CNN model\n",
        "model = Sequential()\n",
        "\n",
        "# -----------------------------------------------------------\n",
        "# 🔹 1st Convolution Block\n",
        "# -----------------------------------------------------------\n",
        "model.add(Conv2D(32, (3, 3), activation='relu', input_shape=(100, 100, 3)))\n",
        "model.add(BatchNormalization())          # Normalize activations\n",
        "model.add(MaxPooling2D(pool_size=(2, 2))) # Reduce spatial size\n",
        "model.add(Dropout(0.25))                 # Randomly drop 25% neurons to prevent overfitting\n",
        "\n",
        "# -----------------------------------------------------------\n",
        "# 🔹 2nd Convolution Block\n",
        "# -----------------------------------------------------------\n",
        "model.add(Conv2D(64, (3, 3), activation='relu'))\n",
        "model.add(BatchNormalization())\n",
        "model.add(MaxPooling2D(pool_size=(2, 2)))\n",
        "model.add(Dropout(0.25))\n",
        "\n",
        "# -----------------------------------------------------------\n",
        "# 🔹 3rd Convolution Block\n",
        "# -----------------------------------------------------------\n",
        "model.add(Conv2D(128, (3, 3), activation='relu'))\n",
        "model.add(BatchNormalization())\n",
        "model.add(MaxPooling2D(pool_size=(2, 2)))\n",
        "model.add(Dropout(0.3))\n",
        "\n",
        "# -----------------------------------------------------------\n",
        "# 🔹 Flatten + Dense Layers (Fully Connected)\n",
        "# -----------------------------------------------------------\n",
        "model.add(Flatten())                    # Convert 2D → 1D vector\n",
        "model.add(Dense(128, activation='relu'))\n",
        "model.add(BatchNormalization())\n",
        "model.add(Dropout(0.4))                 # Dropout for regularization\n",
        "\n",
        "# -----------------------------------------------------------\n",
        "# 🔹 Output Layer\n",
        "# -----------------------------------------------------------\n",
        "model.add(Dense(1, activation='sigmoid'))  # Binary classification (mask / no mask)\n",
        "\n",
        "# -----------------------------------------------------------"
      ],
      "metadata": {
        "colab": {
          "base_uri": "https://localhost:8080/"
        },
        "id": "FD_KlL_dxW4e",
        "outputId": "c0fd8d63-0046-46f3-f1b2-8492231fb3d5"
      },
      "execution_count": null,
      "outputs": [
        {
          "output_type": "stream",
          "name": "stderr",
          "text": [
            "/usr/local/lib/python3.12/dist-packages/keras/src/layers/convolutional/base_conv.py:113: UserWarning: Do not pass an `input_shape`/`input_dim` argument to a layer. When using Sequential models, prefer using an `Input(shape)` object as the first layer in the model instead.\n",
            "  super().__init__(activity_regularizer=activity_regularizer, **kwargs)\n"
          ]
        }
      ]
    },
    {
      "cell_type": "code",
      "source": [
        "model.summary()"
      ],
      "metadata": {
        "colab": {
          "base_uri": "https://localhost:8080/",
          "height": 782
        },
        "id": "YFLiiz22yp84",
        "outputId": "e87372f3-f4b3-4d69-c4de-c2210e239525"
      },
      "execution_count": null,
      "outputs": [
        {
          "output_type": "display_data",
          "data": {
            "text/plain": [
              "\u001b[1mModel: \"sequential\"\u001b[0m\n"
            ],
            "text/html": [
              "<pre style=\"white-space:pre;overflow-x:auto;line-height:normal;font-family:Menlo,'DejaVu Sans Mono',consolas,'Courier New',monospace\"><span style=\"font-weight: bold\">Model: \"sequential\"</span>\n",
              "</pre>\n"
            ]
          },
          "metadata": {}
        },
        {
          "output_type": "display_data",
          "data": {
            "text/plain": [
              "┏━━━━━━━━━━━━━━━━━━━━━━━━━━━━━━━━━┳━━━━━━━━━━━━━━━━━━━━━━━━┳━━━━━━━━━━━━━━━┓\n",
              "┃\u001b[1m \u001b[0m\u001b[1mLayer (type)                   \u001b[0m\u001b[1m \u001b[0m┃\u001b[1m \u001b[0m\u001b[1mOutput Shape          \u001b[0m\u001b[1m \u001b[0m┃\u001b[1m \u001b[0m\u001b[1m      Param #\u001b[0m\u001b[1m \u001b[0m┃\n",
              "┡━━━━━━━━━━━━━━━━━━━━━━━━━━━━━━━━━╇━━━━━━━━━━━━━━━━━━━━━━━━╇━━━━━━━━━━━━━━━┩\n",
              "│ conv2d (\u001b[38;5;33mConv2D\u001b[0m)                 │ (\u001b[38;5;45mNone\u001b[0m, \u001b[38;5;34m98\u001b[0m, \u001b[38;5;34m98\u001b[0m, \u001b[38;5;34m32\u001b[0m)     │           \u001b[38;5;34m896\u001b[0m │\n",
              "├─────────────────────────────────┼────────────────────────┼───────────────┤\n",
              "│ batch_normalization             │ (\u001b[38;5;45mNone\u001b[0m, \u001b[38;5;34m98\u001b[0m, \u001b[38;5;34m98\u001b[0m, \u001b[38;5;34m32\u001b[0m)     │           \u001b[38;5;34m128\u001b[0m │\n",
              "│ (\u001b[38;5;33mBatchNormalization\u001b[0m)            │                        │               │\n",
              "├─────────────────────────────────┼────────────────────────┼───────────────┤\n",
              "│ max_pooling2d (\u001b[38;5;33mMaxPooling2D\u001b[0m)    │ (\u001b[38;5;45mNone\u001b[0m, \u001b[38;5;34m49\u001b[0m, \u001b[38;5;34m49\u001b[0m, \u001b[38;5;34m32\u001b[0m)     │             \u001b[38;5;34m0\u001b[0m │\n",
              "├─────────────────────────────────┼────────────────────────┼───────────────┤\n",
              "│ dropout (\u001b[38;5;33mDropout\u001b[0m)               │ (\u001b[38;5;45mNone\u001b[0m, \u001b[38;5;34m49\u001b[0m, \u001b[38;5;34m49\u001b[0m, \u001b[38;5;34m32\u001b[0m)     │             \u001b[38;5;34m0\u001b[0m │\n",
              "├─────────────────────────────────┼────────────────────────┼───────────────┤\n",
              "│ conv2d_1 (\u001b[38;5;33mConv2D\u001b[0m)               │ (\u001b[38;5;45mNone\u001b[0m, \u001b[38;5;34m47\u001b[0m, \u001b[38;5;34m47\u001b[0m, \u001b[38;5;34m64\u001b[0m)     │        \u001b[38;5;34m18,496\u001b[0m │\n",
              "├─────────────────────────────────┼────────────────────────┼───────────────┤\n",
              "│ batch_normalization_1           │ (\u001b[38;5;45mNone\u001b[0m, \u001b[38;5;34m47\u001b[0m, \u001b[38;5;34m47\u001b[0m, \u001b[38;5;34m64\u001b[0m)     │           \u001b[38;5;34m256\u001b[0m │\n",
              "│ (\u001b[38;5;33mBatchNormalization\u001b[0m)            │                        │               │\n",
              "├─────────────────────────────────┼────────────────────────┼───────────────┤\n",
              "│ max_pooling2d_1 (\u001b[38;5;33mMaxPooling2D\u001b[0m)  │ (\u001b[38;5;45mNone\u001b[0m, \u001b[38;5;34m23\u001b[0m, \u001b[38;5;34m23\u001b[0m, \u001b[38;5;34m64\u001b[0m)     │             \u001b[38;5;34m0\u001b[0m │\n",
              "├─────────────────────────────────┼────────────────────────┼───────────────┤\n",
              "│ dropout_1 (\u001b[38;5;33mDropout\u001b[0m)             │ (\u001b[38;5;45mNone\u001b[0m, \u001b[38;5;34m23\u001b[0m, \u001b[38;5;34m23\u001b[0m, \u001b[38;5;34m64\u001b[0m)     │             \u001b[38;5;34m0\u001b[0m │\n",
              "├─────────────────────────────────┼────────────────────────┼───────────────┤\n",
              "│ conv2d_2 (\u001b[38;5;33mConv2D\u001b[0m)               │ (\u001b[38;5;45mNone\u001b[0m, \u001b[38;5;34m21\u001b[0m, \u001b[38;5;34m21\u001b[0m, \u001b[38;5;34m128\u001b[0m)    │        \u001b[38;5;34m73,856\u001b[0m │\n",
              "├─────────────────────────────────┼────────────────────────┼───────────────┤\n",
              "│ batch_normalization_2           │ (\u001b[38;5;45mNone\u001b[0m, \u001b[38;5;34m21\u001b[0m, \u001b[38;5;34m21\u001b[0m, \u001b[38;5;34m128\u001b[0m)    │           \u001b[38;5;34m512\u001b[0m │\n",
              "│ (\u001b[38;5;33mBatchNormalization\u001b[0m)            │                        │               │\n",
              "├─────────────────────────────────┼────────────────────────┼───────────────┤\n",
              "│ max_pooling2d_2 (\u001b[38;5;33mMaxPooling2D\u001b[0m)  │ (\u001b[38;5;45mNone\u001b[0m, \u001b[38;5;34m10\u001b[0m, \u001b[38;5;34m10\u001b[0m, \u001b[38;5;34m128\u001b[0m)    │             \u001b[38;5;34m0\u001b[0m │\n",
              "├─────────────────────────────────┼────────────────────────┼───────────────┤\n",
              "│ dropout_2 (\u001b[38;5;33mDropout\u001b[0m)             │ (\u001b[38;5;45mNone\u001b[0m, \u001b[38;5;34m10\u001b[0m, \u001b[38;5;34m10\u001b[0m, \u001b[38;5;34m128\u001b[0m)    │             \u001b[38;5;34m0\u001b[0m │\n",
              "├─────────────────────────────────┼────────────────────────┼───────────────┤\n",
              "│ flatten (\u001b[38;5;33mFlatten\u001b[0m)               │ (\u001b[38;5;45mNone\u001b[0m, \u001b[38;5;34m12800\u001b[0m)          │             \u001b[38;5;34m0\u001b[0m │\n",
              "├─────────────────────────────────┼────────────────────────┼───────────────┤\n",
              "│ dense (\u001b[38;5;33mDense\u001b[0m)                   │ (\u001b[38;5;45mNone\u001b[0m, \u001b[38;5;34m128\u001b[0m)            │     \u001b[38;5;34m1,638,528\u001b[0m │\n",
              "├─────────────────────────────────┼────────────────────────┼───────────────┤\n",
              "│ batch_normalization_3           │ (\u001b[38;5;45mNone\u001b[0m, \u001b[38;5;34m128\u001b[0m)            │           \u001b[38;5;34m512\u001b[0m │\n",
              "│ (\u001b[38;5;33mBatchNormalization\u001b[0m)            │                        │               │\n",
              "├─────────────────────────────────┼────────────────────────┼───────────────┤\n",
              "│ dropout_3 (\u001b[38;5;33mDropout\u001b[0m)             │ (\u001b[38;5;45mNone\u001b[0m, \u001b[38;5;34m128\u001b[0m)            │             \u001b[38;5;34m0\u001b[0m │\n",
              "├─────────────────────────────────┼────────────────────────┼───────────────┤\n",
              "│ dense_1 (\u001b[38;5;33mDense\u001b[0m)                 │ (\u001b[38;5;45mNone\u001b[0m, \u001b[38;5;34m1\u001b[0m)              │           \u001b[38;5;34m129\u001b[0m │\n",
              "└─────────────────────────────────┴────────────────────────┴───────────────┘\n"
            ],
            "text/html": [
              "<pre style=\"white-space:pre;overflow-x:auto;line-height:normal;font-family:Menlo,'DejaVu Sans Mono',consolas,'Courier New',monospace\">┏━━━━━━━━━━━━━━━━━━━━━━━━━━━━━━━━━┳━━━━━━━━━━━━━━━━━━━━━━━━┳━━━━━━━━━━━━━━━┓\n",
              "┃<span style=\"font-weight: bold\"> Layer (type)                    </span>┃<span style=\"font-weight: bold\"> Output Shape           </span>┃<span style=\"font-weight: bold\">       Param # </span>┃\n",
              "┡━━━━━━━━━━━━━━━━━━━━━━━━━━━━━━━━━╇━━━━━━━━━━━━━━━━━━━━━━━━╇━━━━━━━━━━━━━━━┩\n",
              "│ conv2d (<span style=\"color: #0087ff; text-decoration-color: #0087ff\">Conv2D</span>)                 │ (<span style=\"color: #00d7ff; text-decoration-color: #00d7ff\">None</span>, <span style=\"color: #00af00; text-decoration-color: #00af00\">98</span>, <span style=\"color: #00af00; text-decoration-color: #00af00\">98</span>, <span style=\"color: #00af00; text-decoration-color: #00af00\">32</span>)     │           <span style=\"color: #00af00; text-decoration-color: #00af00\">896</span> │\n",
              "├─────────────────────────────────┼────────────────────────┼───────────────┤\n",
              "│ batch_normalization             │ (<span style=\"color: #00d7ff; text-decoration-color: #00d7ff\">None</span>, <span style=\"color: #00af00; text-decoration-color: #00af00\">98</span>, <span style=\"color: #00af00; text-decoration-color: #00af00\">98</span>, <span style=\"color: #00af00; text-decoration-color: #00af00\">32</span>)     │           <span style=\"color: #00af00; text-decoration-color: #00af00\">128</span> │\n",
              "│ (<span style=\"color: #0087ff; text-decoration-color: #0087ff\">BatchNormalization</span>)            │                        │               │\n",
              "├─────────────────────────────────┼────────────────────────┼───────────────┤\n",
              "│ max_pooling2d (<span style=\"color: #0087ff; text-decoration-color: #0087ff\">MaxPooling2D</span>)    │ (<span style=\"color: #00d7ff; text-decoration-color: #00d7ff\">None</span>, <span style=\"color: #00af00; text-decoration-color: #00af00\">49</span>, <span style=\"color: #00af00; text-decoration-color: #00af00\">49</span>, <span style=\"color: #00af00; text-decoration-color: #00af00\">32</span>)     │             <span style=\"color: #00af00; text-decoration-color: #00af00\">0</span> │\n",
              "├─────────────────────────────────┼────────────────────────┼───────────────┤\n",
              "│ dropout (<span style=\"color: #0087ff; text-decoration-color: #0087ff\">Dropout</span>)               │ (<span style=\"color: #00d7ff; text-decoration-color: #00d7ff\">None</span>, <span style=\"color: #00af00; text-decoration-color: #00af00\">49</span>, <span style=\"color: #00af00; text-decoration-color: #00af00\">49</span>, <span style=\"color: #00af00; text-decoration-color: #00af00\">32</span>)     │             <span style=\"color: #00af00; text-decoration-color: #00af00\">0</span> │\n",
              "├─────────────────────────────────┼────────────────────────┼───────────────┤\n",
              "│ conv2d_1 (<span style=\"color: #0087ff; text-decoration-color: #0087ff\">Conv2D</span>)               │ (<span style=\"color: #00d7ff; text-decoration-color: #00d7ff\">None</span>, <span style=\"color: #00af00; text-decoration-color: #00af00\">47</span>, <span style=\"color: #00af00; text-decoration-color: #00af00\">47</span>, <span style=\"color: #00af00; text-decoration-color: #00af00\">64</span>)     │        <span style=\"color: #00af00; text-decoration-color: #00af00\">18,496</span> │\n",
              "├─────────────────────────────────┼────────────────────────┼───────────────┤\n",
              "│ batch_normalization_1           │ (<span style=\"color: #00d7ff; text-decoration-color: #00d7ff\">None</span>, <span style=\"color: #00af00; text-decoration-color: #00af00\">47</span>, <span style=\"color: #00af00; text-decoration-color: #00af00\">47</span>, <span style=\"color: #00af00; text-decoration-color: #00af00\">64</span>)     │           <span style=\"color: #00af00; text-decoration-color: #00af00\">256</span> │\n",
              "│ (<span style=\"color: #0087ff; text-decoration-color: #0087ff\">BatchNormalization</span>)            │                        │               │\n",
              "├─────────────────────────────────┼────────────────────────┼───────────────┤\n",
              "│ max_pooling2d_1 (<span style=\"color: #0087ff; text-decoration-color: #0087ff\">MaxPooling2D</span>)  │ (<span style=\"color: #00d7ff; text-decoration-color: #00d7ff\">None</span>, <span style=\"color: #00af00; text-decoration-color: #00af00\">23</span>, <span style=\"color: #00af00; text-decoration-color: #00af00\">23</span>, <span style=\"color: #00af00; text-decoration-color: #00af00\">64</span>)     │             <span style=\"color: #00af00; text-decoration-color: #00af00\">0</span> │\n",
              "├─────────────────────────────────┼────────────────────────┼───────────────┤\n",
              "│ dropout_1 (<span style=\"color: #0087ff; text-decoration-color: #0087ff\">Dropout</span>)             │ (<span style=\"color: #00d7ff; text-decoration-color: #00d7ff\">None</span>, <span style=\"color: #00af00; text-decoration-color: #00af00\">23</span>, <span style=\"color: #00af00; text-decoration-color: #00af00\">23</span>, <span style=\"color: #00af00; text-decoration-color: #00af00\">64</span>)     │             <span style=\"color: #00af00; text-decoration-color: #00af00\">0</span> │\n",
              "├─────────────────────────────────┼────────────────────────┼───────────────┤\n",
              "│ conv2d_2 (<span style=\"color: #0087ff; text-decoration-color: #0087ff\">Conv2D</span>)               │ (<span style=\"color: #00d7ff; text-decoration-color: #00d7ff\">None</span>, <span style=\"color: #00af00; text-decoration-color: #00af00\">21</span>, <span style=\"color: #00af00; text-decoration-color: #00af00\">21</span>, <span style=\"color: #00af00; text-decoration-color: #00af00\">128</span>)    │        <span style=\"color: #00af00; text-decoration-color: #00af00\">73,856</span> │\n",
              "├─────────────────────────────────┼────────────────────────┼───────────────┤\n",
              "│ batch_normalization_2           │ (<span style=\"color: #00d7ff; text-decoration-color: #00d7ff\">None</span>, <span style=\"color: #00af00; text-decoration-color: #00af00\">21</span>, <span style=\"color: #00af00; text-decoration-color: #00af00\">21</span>, <span style=\"color: #00af00; text-decoration-color: #00af00\">128</span>)    │           <span style=\"color: #00af00; text-decoration-color: #00af00\">512</span> │\n",
              "│ (<span style=\"color: #0087ff; text-decoration-color: #0087ff\">BatchNormalization</span>)            │                        │               │\n",
              "├─────────────────────────────────┼────────────────────────┼───────────────┤\n",
              "│ max_pooling2d_2 (<span style=\"color: #0087ff; text-decoration-color: #0087ff\">MaxPooling2D</span>)  │ (<span style=\"color: #00d7ff; text-decoration-color: #00d7ff\">None</span>, <span style=\"color: #00af00; text-decoration-color: #00af00\">10</span>, <span style=\"color: #00af00; text-decoration-color: #00af00\">10</span>, <span style=\"color: #00af00; text-decoration-color: #00af00\">128</span>)    │             <span style=\"color: #00af00; text-decoration-color: #00af00\">0</span> │\n",
              "├─────────────────────────────────┼────────────────────────┼───────────────┤\n",
              "│ dropout_2 (<span style=\"color: #0087ff; text-decoration-color: #0087ff\">Dropout</span>)             │ (<span style=\"color: #00d7ff; text-decoration-color: #00d7ff\">None</span>, <span style=\"color: #00af00; text-decoration-color: #00af00\">10</span>, <span style=\"color: #00af00; text-decoration-color: #00af00\">10</span>, <span style=\"color: #00af00; text-decoration-color: #00af00\">128</span>)    │             <span style=\"color: #00af00; text-decoration-color: #00af00\">0</span> │\n",
              "├─────────────────────────────────┼────────────────────────┼───────────────┤\n",
              "│ flatten (<span style=\"color: #0087ff; text-decoration-color: #0087ff\">Flatten</span>)               │ (<span style=\"color: #00d7ff; text-decoration-color: #00d7ff\">None</span>, <span style=\"color: #00af00; text-decoration-color: #00af00\">12800</span>)          │             <span style=\"color: #00af00; text-decoration-color: #00af00\">0</span> │\n",
              "├─────────────────────────────────┼────────────────────────┼───────────────┤\n",
              "│ dense (<span style=\"color: #0087ff; text-decoration-color: #0087ff\">Dense</span>)                   │ (<span style=\"color: #00d7ff; text-decoration-color: #00d7ff\">None</span>, <span style=\"color: #00af00; text-decoration-color: #00af00\">128</span>)            │     <span style=\"color: #00af00; text-decoration-color: #00af00\">1,638,528</span> │\n",
              "├─────────────────────────────────┼────────────────────────┼───────────────┤\n",
              "│ batch_normalization_3           │ (<span style=\"color: #00d7ff; text-decoration-color: #00d7ff\">None</span>, <span style=\"color: #00af00; text-decoration-color: #00af00\">128</span>)            │           <span style=\"color: #00af00; text-decoration-color: #00af00\">512</span> │\n",
              "│ (<span style=\"color: #0087ff; text-decoration-color: #0087ff\">BatchNormalization</span>)            │                        │               │\n",
              "├─────────────────────────────────┼────────────────────────┼───────────────┤\n",
              "│ dropout_3 (<span style=\"color: #0087ff; text-decoration-color: #0087ff\">Dropout</span>)             │ (<span style=\"color: #00d7ff; text-decoration-color: #00d7ff\">None</span>, <span style=\"color: #00af00; text-decoration-color: #00af00\">128</span>)            │             <span style=\"color: #00af00; text-decoration-color: #00af00\">0</span> │\n",
              "├─────────────────────────────────┼────────────────────────┼───────────────┤\n",
              "│ dense_1 (<span style=\"color: #0087ff; text-decoration-color: #0087ff\">Dense</span>)                 │ (<span style=\"color: #00d7ff; text-decoration-color: #00d7ff\">None</span>, <span style=\"color: #00af00; text-decoration-color: #00af00\">1</span>)              │           <span style=\"color: #00af00; text-decoration-color: #00af00\">129</span> │\n",
              "└─────────────────────────────────┴────────────────────────┴───────────────┘\n",
              "</pre>\n"
            ]
          },
          "metadata": {}
        },
        {
          "output_type": "display_data",
          "data": {
            "text/plain": [
              "\u001b[1m Total params: \u001b[0m\u001b[38;5;34m1,733,313\u001b[0m (6.61 MB)\n"
            ],
            "text/html": [
              "<pre style=\"white-space:pre;overflow-x:auto;line-height:normal;font-family:Menlo,'DejaVu Sans Mono',consolas,'Courier New',monospace\"><span style=\"font-weight: bold\"> Total params: </span><span style=\"color: #00af00; text-decoration-color: #00af00\">1,733,313</span> (6.61 MB)\n",
              "</pre>\n"
            ]
          },
          "metadata": {}
        },
        {
          "output_type": "display_data",
          "data": {
            "text/plain": [
              "\u001b[1m Trainable params: \u001b[0m\u001b[38;5;34m1,732,609\u001b[0m (6.61 MB)\n"
            ],
            "text/html": [
              "<pre style=\"white-space:pre;overflow-x:auto;line-height:normal;font-family:Menlo,'DejaVu Sans Mono',consolas,'Courier New',monospace\"><span style=\"font-weight: bold\"> Trainable params: </span><span style=\"color: #00af00; text-decoration-color: #00af00\">1,732,609</span> (6.61 MB)\n",
              "</pre>\n"
            ]
          },
          "metadata": {}
        },
        {
          "output_type": "display_data",
          "data": {
            "text/plain": [
              "\u001b[1m Non-trainable params: \u001b[0m\u001b[38;5;34m704\u001b[0m (2.75 KB)\n"
            ],
            "text/html": [
              "<pre style=\"white-space:pre;overflow-x:auto;line-height:normal;font-family:Menlo,'DejaVu Sans Mono',consolas,'Courier New',monospace\"><span style=\"font-weight: bold\"> Non-trainable params: </span><span style=\"color: #00af00; text-decoration-color: #00af00\">704</span> (2.75 KB)\n",
              "</pre>\n"
            ]
          },
          "metadata": {}
        }
      ]
    },
    {
      "cell_type": "code",
      "source": [
        "model.compile(\n",
        "    optimizer='adam',                 # Adam optimizer (adaptive learning)\n",
        "    loss='binary_crossentropy',       # Binary classification loss\n",
        "    metrics=['accuracy']              # Track accuracy\n",
        ")"
      ],
      "metadata": {
        "id": "CmBY2J4tysjN"
      },
      "execution_count": null,
      "outputs": []
    },
    {
      "cell_type": "code",
      "source": [
        "# -----------------------------------------------------------\n",
        "# ✅ Step 13: Model Training with Early Stopping\n",
        "# -----------------------------------------------------------\n",
        "'''\n",
        "from tensorflow.keras.callbacks import EarlyStopping\n",
        "import matplotlib.pyplot as plt\n",
        "\n",
        "# -----------------------------------------------------------\n",
        "# 🔹 EarlyStopping Callback\n",
        "# -----------------------------------------------------------\n",
        "# Stops training when validation loss doesn't improve for 5 epochs\n",
        "early_stop = EarlyStopping(\n",
        "    monitor='val_loss',       # Watch validation loss\n",
        "    patience=5,               # Stop if no improvement for 5 epochs\n",
        "    restore_best_weights=True # Restore the best model\n",
        ")\n",
        "\n",
        "# -----------------------------------------------------------\n",
        "# 🔹 Train the model\n",
        "# -----------------------------------------------------------\n",
        "history = model.fit(\n",
        "    X_train, y_train,\n",
        "    validation_split=0.2,     # 20% of training data used for validation\n",
        "    epochs=30,                # Maximum number of epochs\n",
        "    batch_size=32,            # Number of images per training step\n",
        "    callbacks=[early_stop],   # Add early stopping\n",
        "    verbose=1                 # Show training progress\n",
        ")\n",
        "\n",
        "# -----------------------------------------------------------\n",
        "# ✅ Step 14: Evaluate on Test Data\n",
        "# -----------------------------------------------------------\n",
        "test_loss, test_accuracy = model.evaluate(X_test, y_test, verbose=1)\n",
        "print(f\"✅ Test Accuracy: {test_accuracy*100:.2f}%\")\n",
        "print(f\"✅ Test Loss: {test_loss:.4f}\")\n",
        "\n",
        "# -----------------------------------------------------------\n",
        "# ✅ Step 15: Plot Training Curves\n",
        "# -----------------------------------------------------------\n",
        "\n",
        "# Plot Accuracy\n",
        "plt.figure(figsize=(8,4))\n",
        "plt.plot(history.history['accuracy'], label='Training Accuracy')\n",
        "plt.plot(history.history['val_accuracy'], label='Validation Accuracy')\n",
        "plt.title('Model Accuracy During Training')\n",
        "plt.xlabel('Epochs')\n",
        "plt.ylabel('Accuracy')\n",
        "plt.legend()\n",
        "plt.show()\n",
        "\n",
        "# Plot Loss\n",
        "plt.figure(figsize=(8,4))\n",
        "plt.plot(history.history['loss'], label='Training Loss')\n",
        "plt.plot(history.history['val_loss'], label='Validation Loss')\n",
        "plt.title('Model Loss During Training')\n",
        "plt.xlabel('Epochs')\n",
        "plt.ylabel('Loss')\n",
        "plt.legend()\n",
        "plt.show()\n",
        "'''"
      ],
      "metadata": {
        "colab": {
          "base_uri": "https://localhost:8080/",
          "height": 122
        },
        "id": "fG6xPPWPy5x1",
        "outputId": "ac9f9489-4f47-4e33-f1c9-d59345134990"
      },
      "execution_count": null,
      "outputs": [
        {
          "output_type": "execute_result",
          "data": {
            "text/plain": [
              "'\\nfrom tensorflow.keras.callbacks import EarlyStopping\\nimport matplotlib.pyplot as plt\\n\\n# -----------------------------------------------------------\\n# 🔹 EarlyStopping Callback\\n# -----------------------------------------------------------\\n# Stops training when validation loss doesn\\'t improve for 5 epochs\\nearly_stop = EarlyStopping(\\n    monitor=\\'val_loss\\',       # Watch validation loss\\n    patience=5,               # Stop if no improvement for 5 epochs\\n    restore_best_weights=True # Restore the best model\\n)\\n\\n# -----------------------------------------------------------\\n# 🔹 Train the model\\n# -----------------------------------------------------------\\nhistory = model.fit(\\n    X_train, y_train, \\n    validation_split=0.2,     # 20% of training data used for validation\\n    epochs=30,                # Maximum number of epochs\\n    batch_size=32,            # Number of images per training step\\n    callbacks=[early_stop],   # Add early stopping\\n    verbose=1                 # Show training progress\\n)\\n\\n# -----------------------------------------------------------\\n# ✅ Step 14: Evaluate on Test Data\\n# -----------------------------------------------------------\\ntest_loss, test_accuracy = model.evaluate(X_test, y_test, verbose=1)\\nprint(f\"✅ Test Accuracy: {test_accuracy*100:.2f}%\")\\nprint(f\"✅ Test Loss: {test_loss:.4f}\")\\n\\n# -----------------------------------------------------------\\n# ✅ Step 15: Plot Training Curves\\n# -----------------------------------------------------------\\n\\n# Plot Accuracy\\nplt.figure(figsize=(8,4))\\nplt.plot(history.history[\\'accuracy\\'], label=\\'Training Accuracy\\')\\nplt.plot(history.history[\\'val_accuracy\\'], label=\\'Validation Accuracy\\')\\nplt.title(\\'Model Accuracy During Training\\')\\nplt.xlabel(\\'Epochs\\')\\nplt.ylabel(\\'Accuracy\\')\\nplt.legend()\\nplt.show()\\n\\n# Plot Loss\\nplt.figure(figsize=(8,4))\\nplt.plot(history.history[\\'loss\\'], label=\\'Training Loss\\')\\nplt.plot(history.history[\\'val_loss\\'], label=\\'Validation Loss\\')\\nplt.title(\\'Model Loss During Training\\')\\nplt.xlabel(\\'Epochs\\')\\nplt.ylabel(\\'Loss\\')\\nplt.legend()\\nplt.show()\\n'"
            ],
            "application/vnd.google.colaboratory.intrinsic+json": {
              "type": "string"
            }
          },
          "metadata": {},
          "execution_count": 23
        }
      ]
    },
    {
      "cell_type": "code",
      "source": [
        "# -----------------------------------------------------------\n",
        "# ✅ Step 13: Model Training (Without Early Stopping)\n",
        "# -----------------------------------------------------------\n",
        "\n",
        "import matplotlib.pyplot as plt\n",
        "\n",
        "# -----------------------------------------------------------\n",
        "# 🔹 Train the model normally\n",
        "# -----------------------------------------------------------\n",
        "# We’ll use 20 epochs; you can increase if accuracy keeps improving.\n",
        "history = model.fit(\n",
        "    X_train, y_train,\n",
        "    validation_split=0.2,     # 20% of training data for validation\n",
        "    epochs=40,                # Fixed number of epochs (no early stop)\n",
        "    batch_size=32,            # Number of images processed per step\n",
        "    verbose=1                 # Show training progress\n",
        ")\n",
        "\n",
        "# -----------------------------------------------------------\n",
        "# ✅ Step 14: Evaluate Model on Test Data\n",
        "# -----------------------------------------------------------\n",
        "test_loss, test_accuracy = model.evaluate(X_test, y_test, verbose=1)\n",
        "print(f\"✅ Test Accuracy: {test_accuracy*100:.2f}%\")\n",
        "print(f\"✅ Test Loss: {test_loss:.4f}\")\n",
        "\n",
        "# -----------------------------------------------------------\n",
        "# ✅ Step 15: Plot Training Accuracy & Loss\n",
        "# -----------------------------------------------------------\n",
        "\n",
        "# Plot Accuracy curve\n",
        "plt.figure(figsize=(8, 4))\n",
        "plt.plot(history.history['accuracy'], label='Training Accuracy')\n",
        "plt.plot(history.history['val_accuracy'], label='Validation Accuracy')\n",
        "plt.title('Model Accuracy During Training')\n",
        "plt.xlabel('Epochs')\n",
        "plt.ylabel('Accuracy')\n",
        "plt.legend()\n",
        "plt.show()\n",
        "\n",
        "# Plot Loss curve\n",
        "plt.figure(figsize=(8, 4))\n",
        "plt.plot(history.history['loss'], label='Training Loss')\n",
        "plt.plot(history.history['val_loss'], label='Validation Loss')\n",
        "plt.title('Model Loss During Training')\n",
        "plt.xlabel('Epochs')\n",
        "plt.ylabel('Loss')\n",
        "plt.legend()\n",
        "plt.show()\n"
      ],
      "metadata": {
        "colab": {
          "base_uri": "https://localhost:8080/",
          "height": 1000
        },
        "id": "mQwUtk4Y0RRi",
        "outputId": "8a772aab-acf9-4222-b16d-2075ad87098c"
      },
      "execution_count": null,
      "outputs": [
        {
          "output_type": "stream",
          "name": "stdout",
          "text": [
            "Epoch 1/40\n",
            "\u001b[1m303/303\u001b[0m \u001b[32m━━━━━━━━━━━━━━━━━━━━\u001b[0m\u001b[37m\u001b[0m \u001b[1m23s\u001b[0m 42ms/step - accuracy: 0.8372 - loss: 0.4089 - val_accuracy: 0.5172 - val_loss: 1.7105\n",
            "Epoch 2/40\n",
            "\u001b[1m303/303\u001b[0m \u001b[32m━━━━━━━━━━━━━━━━━━━━\u001b[0m\u001b[37m\u001b[0m \u001b[1m5s\u001b[0m 15ms/step - accuracy: 0.9095 - loss: 0.2303 - val_accuracy: 0.7013 - val_loss: 0.5701\n",
            "Epoch 3/40\n",
            "\u001b[1m303/303\u001b[0m \u001b[32m━━━━━━━━━━━━━━━━━━━━\u001b[0m\u001b[37m\u001b[0m \u001b[1m5s\u001b[0m 16ms/step - accuracy: 0.9115 - loss: 0.2159 - val_accuracy: 0.8945 - val_loss: 0.2576\n",
            "Epoch 4/40\n",
            "\u001b[1m303/303\u001b[0m \u001b[32m━━━━━━━━━━━━━━━━━━━━\u001b[0m\u001b[37m\u001b[0m \u001b[1m5s\u001b[0m 15ms/step - accuracy: 0.9403 - loss: 0.1617 - val_accuracy: 0.9528 - val_loss: 0.1293\n",
            "Epoch 5/40\n",
            "\u001b[1m303/303\u001b[0m \u001b[32m━━━━━━━━━━━━━━━━━━━━\u001b[0m\u001b[37m\u001b[0m \u001b[1m5s\u001b[0m 16ms/step - accuracy: 0.9482 - loss: 0.1332 - val_accuracy: 0.9293 - val_loss: 0.1781\n",
            "Epoch 6/40\n",
            "\u001b[1m303/303\u001b[0m \u001b[32m━━━━━━━━━━━━━━━━━━━━\u001b[0m\u001b[37m\u001b[0m \u001b[1m5s\u001b[0m 17ms/step - accuracy: 0.9581 - loss: 0.1116 - val_accuracy: 0.9421 - val_loss: 0.1542\n",
            "Epoch 7/40\n",
            "\u001b[1m303/303\u001b[0m \u001b[32m━━━━━━━━━━━━━━━━━━━━\u001b[0m\u001b[37m\u001b[0m \u001b[1m5s\u001b[0m 15ms/step - accuracy: 0.9608 - loss: 0.1031 - val_accuracy: 0.9115 - val_loss: 0.2087\n",
            "Epoch 8/40\n",
            "\u001b[1m303/303\u001b[0m \u001b[32m━━━━━━━━━━━━━━━━━━━━\u001b[0m\u001b[37m\u001b[0m \u001b[1m5s\u001b[0m 16ms/step - accuracy: 0.9681 - loss: 0.0858 - val_accuracy: 0.9326 - val_loss: 0.2286\n",
            "Epoch 9/40\n",
            "\u001b[1m303/303\u001b[0m \u001b[32m━━━━━━━━━━━━━━━━━━━━\u001b[0m\u001b[37m\u001b[0m \u001b[1m5s\u001b[0m 15ms/step - accuracy: 0.9574 - loss: 0.1145 - val_accuracy: 0.9636 - val_loss: 0.1097\n",
            "Epoch 10/40\n",
            "\u001b[1m303/303\u001b[0m \u001b[32m━━━━━━━━━━━━━━━━━━━━\u001b[0m\u001b[37m\u001b[0m \u001b[1m5s\u001b[0m 16ms/step - accuracy: 0.9726 - loss: 0.0732 - val_accuracy: 0.9450 - val_loss: 0.1622\n",
            "Epoch 11/40\n",
            "\u001b[1m303/303\u001b[0m \u001b[32m━━━━━━━━━━━━━━━━━━━━\u001b[0m\u001b[37m\u001b[0m \u001b[1m5s\u001b[0m 16ms/step - accuracy: 0.9801 - loss: 0.0551 - val_accuracy: 0.9686 - val_loss: 0.0887\n",
            "Epoch 12/40\n",
            "\u001b[1m303/303\u001b[0m \u001b[32m━━━━━━━━━━━━━━━━━━━━\u001b[0m\u001b[37m\u001b[0m \u001b[1m5s\u001b[0m 15ms/step - accuracy: 0.9838 - loss: 0.0466 - val_accuracy: 0.9706 - val_loss: 0.0781\n",
            "Epoch 13/40\n",
            "\u001b[1m303/303\u001b[0m \u001b[32m━━━━━━━━━━━━━━━━━━━━\u001b[0m\u001b[37m\u001b[0m \u001b[1m5s\u001b[0m 16ms/step - accuracy: 0.9860 - loss: 0.0425 - val_accuracy: 0.8022 - val_loss: 0.4345\n",
            "Epoch 14/40\n",
            "\u001b[1m303/303\u001b[0m \u001b[32m━━━━━━━━━━━━━━━━━━━━\u001b[0m\u001b[37m\u001b[0m \u001b[1m5s\u001b[0m 15ms/step - accuracy: 0.9834 - loss: 0.0444 - val_accuracy: 0.9139 - val_loss: 0.2401\n",
            "Epoch 15/40\n",
            "\u001b[1m303/303\u001b[0m \u001b[32m━━━━━━━━━━━━━━━━━━━━\u001b[0m\u001b[37m\u001b[0m \u001b[1m5s\u001b[0m 16ms/step - accuracy: 0.9766 - loss: 0.0674 - val_accuracy: 0.8891 - val_loss: 0.4849\n",
            "Epoch 16/40\n",
            "\u001b[1m303/303\u001b[0m \u001b[32m━━━━━━━━━━━━━━━━━━━━\u001b[0m\u001b[37m\u001b[0m \u001b[1m5s\u001b[0m 16ms/step - accuracy: 0.9774 - loss: 0.0636 - val_accuracy: 0.9657 - val_loss: 0.0988\n",
            "Epoch 17/40\n",
            "\u001b[1m303/303\u001b[0m \u001b[32m━━━━━━━━━━━━━━━━━━━━\u001b[0m\u001b[37m\u001b[0m \u001b[1m5s\u001b[0m 15ms/step - accuracy: 0.9697 - loss: 0.0889 - val_accuracy: 0.9764 - val_loss: 0.0601\n",
            "Epoch 18/40\n",
            "\u001b[1m303/303\u001b[0m \u001b[32m━━━━━━━━━━━━━━━━━━━━\u001b[0m\u001b[37m\u001b[0m \u001b[1m5s\u001b[0m 16ms/step - accuracy: 0.9852 - loss: 0.0418 - val_accuracy: 0.9624 - val_loss: 0.1251\n",
            "Epoch 19/40\n",
            "\u001b[1m303/303\u001b[0m \u001b[32m━━━━━━━━━━━━━━━━━━━━\u001b[0m\u001b[37m\u001b[0m \u001b[1m5s\u001b[0m 15ms/step - accuracy: 0.9872 - loss: 0.0347 - val_accuracy: 0.9164 - val_loss: 0.2580\n",
            "Epoch 20/40\n",
            "\u001b[1m303/303\u001b[0m \u001b[32m━━━━━━━━━━━━━━━━━━━━\u001b[0m\u001b[37m\u001b[0m \u001b[1m5s\u001b[0m 16ms/step - accuracy: 0.9901 - loss: 0.0275 - val_accuracy: 0.9855 - val_loss: 0.0509\n",
            "Epoch 21/40\n",
            "\u001b[1m303/303\u001b[0m \u001b[32m━━━━━━━━━━━━━━━━━━━━\u001b[0m\u001b[37m\u001b[0m \u001b[1m5s\u001b[0m 16ms/step - accuracy: 0.9877 - loss: 0.0404 - val_accuracy: 0.9702 - val_loss: 0.0818\n",
            "Epoch 22/40\n",
            "\u001b[1m303/303\u001b[0m \u001b[32m━━━━━━━━━━━━━━━━━━━━\u001b[0m\u001b[37m\u001b[0m \u001b[1m5s\u001b[0m 15ms/step - accuracy: 0.9864 - loss: 0.0420 - val_accuracy: 0.9764 - val_loss: 0.0843\n",
            "Epoch 23/40\n",
            "\u001b[1m303/303\u001b[0m \u001b[32m━━━━━━━━━━━━━━━━━━━━\u001b[0m\u001b[37m\u001b[0m \u001b[1m5s\u001b[0m 16ms/step - accuracy: 0.9833 - loss: 0.0502 - val_accuracy: 0.9785 - val_loss: 0.0640\n",
            "Epoch 24/40\n",
            "\u001b[1m303/303\u001b[0m \u001b[32m━━━━━━━━━━━━━━━━━━━━\u001b[0m\u001b[37m\u001b[0m \u001b[1m5s\u001b[0m 15ms/step - accuracy: 0.9890 - loss: 0.0301 - val_accuracy: 0.9677 - val_loss: 0.0948\n",
            "Epoch 25/40\n",
            "\u001b[1m303/303\u001b[0m \u001b[32m━━━━━━━━━━━━━━━━━━━━\u001b[0m\u001b[37m\u001b[0m \u001b[1m5s\u001b[0m 16ms/step - accuracy: 0.9882 - loss: 0.0371 - val_accuracy: 0.9475 - val_loss: 0.1715\n",
            "Epoch 26/40\n",
            "\u001b[1m303/303\u001b[0m \u001b[32m━━━━━━━━━━━━━━━━━━━━\u001b[0m\u001b[37m\u001b[0m \u001b[1m5s\u001b[0m 16ms/step - accuracy: 0.9526 - loss: 0.1542 - val_accuracy: 0.8250 - val_loss: 0.5246\n",
            "Epoch 27/40\n",
            "\u001b[1m303/303\u001b[0m \u001b[32m━━━━━━━━━━━━━━━━━━━━\u001b[0m\u001b[37m\u001b[0m \u001b[1m5s\u001b[0m 15ms/step - accuracy: 0.9817 - loss: 0.0488 - val_accuracy: 0.9727 - val_loss: 0.0818\n",
            "Epoch 28/40\n",
            "\u001b[1m303/303\u001b[0m \u001b[32m━━━━━━━━━━━━━━━━━━━━\u001b[0m\u001b[37m\u001b[0m \u001b[1m5s\u001b[0m 16ms/step - accuracy: 0.9885 - loss: 0.0321 - val_accuracy: 0.9777 - val_loss: 0.0608\n",
            "Epoch 29/40\n",
            "\u001b[1m303/303\u001b[0m \u001b[32m━━━━━━━━━━━━━━━━━━━━\u001b[0m\u001b[37m\u001b[0m \u001b[1m5s\u001b[0m 15ms/step - accuracy: 0.9923 - loss: 0.0225 - val_accuracy: 0.9760 - val_loss: 0.0784\n",
            "Epoch 30/40\n",
            "\u001b[1m303/303\u001b[0m \u001b[32m━━━━━━━━━━━━━━━━━━━━\u001b[0m\u001b[37m\u001b[0m \u001b[1m5s\u001b[0m 16ms/step - accuracy: 0.9933 - loss: 0.0223 - val_accuracy: 0.9789 - val_loss: 0.0711\n",
            "Epoch 31/40\n",
            "\u001b[1m303/303\u001b[0m \u001b[32m━━━━━━━━━━━━━━━━━━━━\u001b[0m\u001b[37m\u001b[0m \u001b[1m5s\u001b[0m 16ms/step - accuracy: 0.9924 - loss: 0.0200 - val_accuracy: 0.9636 - val_loss: 0.1267\n",
            "Epoch 32/40\n",
            "\u001b[1m303/303\u001b[0m \u001b[32m━━━━━━━━━━━━━━━━━━━━\u001b[0m\u001b[37m\u001b[0m \u001b[1m5s\u001b[0m 15ms/step - accuracy: 0.9945 - loss: 0.0178 - val_accuracy: 0.9793 - val_loss: 0.0608\n",
            "Epoch 33/40\n",
            "\u001b[1m303/303\u001b[0m \u001b[32m━━━━━━━━━━━━━━━━━━━━\u001b[0m\u001b[37m\u001b[0m \u001b[1m5s\u001b[0m 16ms/step - accuracy: 0.9951 - loss: 0.0151 - val_accuracy: 0.9619 - val_loss: 0.1437\n",
            "Epoch 34/40\n",
            "\u001b[1m303/303\u001b[0m \u001b[32m━━━━━━━━━━━━━━━━━━━━\u001b[0m\u001b[37m\u001b[0m \u001b[1m5s\u001b[0m 15ms/step - accuracy: 0.9930 - loss: 0.0183 - val_accuracy: 0.9777 - val_loss: 0.0617\n",
            "Epoch 35/40\n",
            "\u001b[1m303/303\u001b[0m \u001b[32m━━━━━━━━━━━━━━━━━━━━\u001b[0m\u001b[37m\u001b[0m \u001b[1m5s\u001b[0m 16ms/step - accuracy: 0.9923 - loss: 0.0231 - val_accuracy: 0.9781 - val_loss: 0.0667\n",
            "Epoch 36/40\n",
            "\u001b[1m303/303\u001b[0m \u001b[32m━━━━━━━━━━━━━━━━━━━━\u001b[0m\u001b[37m\u001b[0m \u001b[1m5s\u001b[0m 16ms/step - accuracy: 0.9936 - loss: 0.0209 - val_accuracy: 0.9789 - val_loss: 0.0803\n",
            "Epoch 37/40\n",
            "\u001b[1m303/303\u001b[0m \u001b[32m━━━━━━━━━━━━━━━━━━━━\u001b[0m\u001b[37m\u001b[0m \u001b[1m5s\u001b[0m 15ms/step - accuracy: 0.9930 - loss: 0.0236 - val_accuracy: 0.9785 - val_loss: 0.0884\n",
            "Epoch 38/40\n",
            "\u001b[1m303/303\u001b[0m \u001b[32m━━━━━━━━━━━━━━━━━━━━\u001b[0m\u001b[37m\u001b[0m \u001b[1m5s\u001b[0m 16ms/step - accuracy: 0.9915 - loss: 0.0234 - val_accuracy: 0.9652 - val_loss: 0.1160\n",
            "Epoch 39/40\n",
            "\u001b[1m303/303\u001b[0m \u001b[32m━━━━━━━━━━━━━━━━━━━━\u001b[0m\u001b[37m\u001b[0m \u001b[1m5s\u001b[0m 16ms/step - accuracy: 0.9931 - loss: 0.0211 - val_accuracy: 0.9764 - val_loss: 0.0782\n",
            "Epoch 40/40\n",
            "\u001b[1m303/303\u001b[0m \u001b[32m━━━━━━━━━━━━━━━━━━━━\u001b[0m\u001b[37m\u001b[0m \u001b[1m5s\u001b[0m 16ms/step - accuracy: 0.9902 - loss: 0.0229 - val_accuracy: 0.9690 - val_loss: 0.0727\n",
            "\u001b[1m95/95\u001b[0m \u001b[32m━━━━━━━━━━━━━━━━━━━━\u001b[0m\u001b[37m\u001b[0m \u001b[1m1s\u001b[0m 14ms/step - accuracy: 0.9756 - loss: 0.0834\n",
            "✅ Test Accuracy: 97.52%\n",
            "✅ Test Loss: 0.0816\n"
          ]
        },
        {
          "output_type": "display_data",
          "data": {
            "text/plain": [
              "<Figure size 800x400 with 1 Axes>"
            ],
            "image/png": "[encoded data removed]"
          },
          "metadata": {}
        },
        {
          "output_type": "display_data",
          "data": {
            "text/plain": [
              "<Figure size 800x400 with 1 Axes>"
            ],
            "image/png": "[encoded data removed]"
          },
          "metadata": {}
        }
      ]
    },
    {
      "cell_type": "code",
      "source": [
        "# -----------------------------------------------------------\n",
        "# ✅ Step 16: Evaluate the Model on Test Data\n",
        "# -----------------------------------------------------------\n",
        "\n",
        "# Evaluate model performance on unseen (test) data\n",
        "test_loss, test_accuracy = model.evaluate(X_test, y_test, verbose=1)\n",
        "\n",
        "# Display results\n",
        "print(\"✅ Model Evaluation Results:\")\n",
        "print(f\"Test Accuracy: {test_accuracy*100:.2f}%\")\n",
        "print(f\"Test Loss: {test_loss:.4f}\")\n",
        "\n",
        "# -----------------------------------------------------------\n",
        "# ✅ Step 17: Save the Model for Future Use\n",
        "# -----------------------------------------------------------\n",
        "\n",
        "# Save the trained model in HDF5 format (.h5)\n",
        "model.save(\"face_mask_detector.h5\")\n",
        "\n",
        "print(\"💾 Model saved successfully as 'face_mask_detector.h5'\")\n",
        "\n",
        "# -----------------------------------------------------------\n",
        "# ✅ Step 18: Optional — Reload Model to Confirm It Works\n",
        "# -----------------------------------------------------------\n",
        "\n",
        "from tensorflow.keras.models import load_model\n",
        "\n",
        "# Load the saved model\n",
        "loaded_model = load_model(\"face_mask_detector.h5\")\n",
        "\n",
        "# Evaluate again (to verify the loaded model works correctly)\n",
        "loss, acc = loaded_model.evaluate(X_test, y_test, verbose=0)\n",
        "print(f\"🔁 Reloaded Model Accuracy: {acc*100:.2f}%\")\n"
      ],
      "metadata": {
        "colab": {
          "base_uri": "https://localhost:8080/"
        },
        "id": "gnS2_giq1TQO",
        "outputId": "4122179b-90db-4708-a751-14431329035b"
      },
      "execution_count": null,
      "outputs": [
        {
          "output_type": "stream",
          "name": "stdout",
          "text": [
            "\u001b[1m95/95\u001b[0m \u001b[32m━━━━━━━━━━━━━━━━━━━━\u001b[0m\u001b[37m\u001b[0m \u001b[1m1s\u001b[0m 6ms/step - accuracy: 0.9756 - loss: 0.0834\n"
          ]
        },
        {
          "output_type": "stream",
          "name": "stderr",
          "text": [
            "WARNING:absl:You are saving your model as an HDF5 file via `model.save()` or `keras.saving.save_model(model)`. This file format is considered legacy. We recommend using instead the native Keras format, e.g. `model.save('my_model.keras')` or `keras.saving.save_model(model, 'my_model.keras')`. \n"
          ]
        },
        {
          "output_type": "stream",
          "name": "stdout",
          "text": [
            "✅ Model Evaluation Results:\n",
            "Test Accuracy: 97.52%\n",
            "Test Loss: 0.0816\n",
            "💾 Model saved successfully as 'face_mask_detector.h5'\n"
          ]
        },
        {
          "output_type": "stream",
          "name": "stderr",
          "text": [
            "WARNING:absl:Compiled the loaded model, but the compiled metrics have yet to be built. `model.compile_metrics` will be empty until you train or evaluate the model.\n"
          ]
        },
        {
          "output_type": "stream",
          "name": "stdout",
          "text": [
            "🔁 Reloaded Model Accuracy: 97.52%\n"
          ]
        }
      ]
    },
    {
      "cell_type": "code",
      "source": [
        "# -----------------------------------------------------------\n",
        "# ✅ Step 19: Predict on Custom User Image\n",
        "# -----------------------------------------------------------\n",
        "\n",
        "from tensorflow.keras.models import load_model\n",
        "from google.colab import files\n",
        "import cv2\n",
        "import numpy as np\n",
        "import matplotlib.pyplot as plt\n",
        "\n",
        "# -----------------------------------------------------------\n",
        "# 🔹 1. Load your trained model\n",
        "# -----------------------------------------------------------\n",
        "model = load_model(\"face_mask_detector.h5\")\n",
        "print(\"✅ Model loaded successfully!\")\n",
        "\n",
        "# -----------------------------------------------------------\n",
        "# 🔹 2. Let user upload an image\n",
        "# -----------------------------------------------------------\n",
        "uploaded = files.upload()  # Opens a file picker for the user\n",
        "\n",
        "for file_name in uploaded.keys():\n",
        "    print(f\"\\n📂 Uploaded file: {file_name}\")\n",
        "\n",
        "    # -----------------------------------------------------------\n",
        "    # 🔹 3. Read and preprocess the uploaded image\n",
        "    # -----------------------------------------------------------\n",
        "    img_path = file_name\n",
        "    img = cv2.imread(img_path)\n",
        "\n",
        "    # Check if image loaded correctly\n",
        "    if img is None:\n",
        "        print(\"❌ Error: Could not load image.\")\n",
        "        continue\n",
        "\n",
        "    # Resize to same size as training images\n",
        "    img = cv2.resize(img, (100, 100))\n",
        "\n",
        "    # Convert BGR → RGB (since OpenCV loads in BGR format)\n",
        "    img_rgb = cv2.cvtColor(img, cv2.COLOR_BGR2RGB)\n",
        "\n",
        "    # Normalize pixel values (0–1 range)\n",
        "    img_normalized = img_rgb / 255.0\n",
        "\n",
        "    # Expand dimensions → model expects (1, 100, 100, 3)\n",
        "    img_input = np.expand_dims(img_normalized, axis=0)\n",
        "\n",
        "    # -----------------------------------------------------------\n",
        "    # 🔹 4. Make prediction\n",
        "    # -----------------------------------------------------------\n",
        "    prediction = model.predict(img_input)[0][0]  # single output value between 0–1\n",
        "\n",
        "    # -----------------------------------------------------------\n",
        "    # 🔹 5. Interpret result\n",
        "    # -----------------------------------------------------------\n",
        "    if prediction >= 0.5:\n",
        "        label = \"😷 With Mask\"\n",
        "        color = (0, 255, 0)  # green\n",
        "    else:\n",
        "        label = \"❌ Without Mask\"\n",
        "        color = (255, 0, 0)  # red\n",
        "\n",
        "    # -----------------------------------------------------------\n",
        "    # 🔹 6. Display image with prediction\n",
        "    # -----------------------------------------------------------\n",
        "    plt.imshow(img_rgb)\n",
        "    plt.title(f\"Prediction: {label}\")\n",
        "    plt.axis('off')\n",
        "    plt.show()\n",
        "\n",
        "    print(f\"✅ Prediction Result: {label} (Confidence: {prediction:.2f})\")\n"
      ],
      "metadata": {
        "colab": {
          "base_uri": "https://localhost:8080/",
          "height": 588
        },
        "id": "jb9bP9ox2vxX",
        "outputId": "314982af-27e4-4729-c4dc-917727c67271"
      },
      "execution_count": null,
      "outputs": [
        {
          "output_type": "stream",
          "name": "stderr",
          "text": [
            "WARNING:absl:Compiled the loaded model, but the compiled metrics have yet to be built. `model.compile_metrics` will be empty until you train or evaluate the model.\n"
          ]
        },
        {
          "output_type": "stream",
          "name": "stdout",
          "text": [
            "✅ Model loaded successfully!\n"
          ]
        },
        {
          "output_type": "display_data",
          "data": {
            "text/plain": [
              "<IPython.core.display.HTML object>"
            ],
            "text/html": [
              "\n",
              "     <input type=\"file\" id=\"files-eb6a681d-76e5-446b-8e1f-9b541c998461\" name=\"files[]\" multiple disabled\n",
              "        style=\"border:none\" />\n",
              "     <output id=\"result-eb6a681d-76e5-446b-8e1f-9b541c998461\">\n",
              "      Upload widget is only available when the cell has been executed in the\n",
              "      current browser session. Please rerun this cell to enable.\n",
              "      </output>\n",
              "      <script>// Copyright 2017 Google LLC\n",
              "//\n",
              "// Licensed under the Apache License, Version 2.0 (the \"License\");\n",
              "// you may not use this file except in compliance with the License.\n",
              "// You may obtain a copy of the License at\n",
              "//\n",
              "//      http://www.apache.org/licenses/LICENSE-2.0\n",
              "//\n",
              "// Unless required by applicable law or agreed to in writing, software\n",
              "// distributed under the License is distributed on an \"AS IS\" BASIS,\n",
              "// WITHOUT WARRANTIES OR CONDITIONS OF ANY KIND, either express or implied.\n",
              "// See the License for the specific language governing permissions and\n",
              "// limitations under the License.\n",
              "\n",
              "/**\n",
              " * @fileoverview Helpers for google.colab Python module.\n",
              " */\n",
              "(function(scope) {\n",
              "function span(text, styleAttributes = {}) {\n",
              "  const element = document.createElement('span');\n",
              "  element.textContent = text;\n",
              "  for (const key of Object.keys(styleAttributes)) {\n",
              "    element.style[key] = styleAttributes[key];\n",
              "  }\n",
              "  return element;\n",
              "}\n",
              "\n",
              "// Max number of bytes which will be uploaded at a time.\n",
              "const MAX_PAYLOAD_SIZE = 100 * 1024;\n",
              "\n",
              "function _uploadFiles(inputId, outputId) {\n",
              "  const steps = uploadFilesStep(inputId, outputId);\n",
              "  const outputElement = document.getElementById(outputId);\n",
              "  // Cache steps on the outputElement to make it available for the next call\n",
              "  // to uploadFilesContinue from Python.\n",
              "  outputElement.steps = steps;\n",
              "\n",
              "  return _uploadFilesContinue(outputId);\n",
              "}\n",
              "\n",
              "// This is roughly an async generator (not supported in the browser yet),\n",
              "// where there are multiple asynchronous steps and the Python side is going\n",
              "// to poll for completion of each step.\n",
              "// This uses a Promise to block the python side on completion of each step,\n",
              "// then passes the result of the previous step as the input to the next step.\n",
              "function _uploadFilesContinue(outputId) {\n",
              "  const outputElement = document.getElementById(outputId);\n",
              "  const steps = outputElement.steps;\n",
              "\n",
              "  const next = steps.next(outputElement.lastPromiseValue);\n",
              "  return Promise.resolve(next.value.promise).then((value) => {\n",
              "    // Cache the last promise value to make it available to the next\n",
              "    // step of the generator.\n",
              "    outputElement.lastPromiseValue = value;\n",
              "    return next.value.response;\n",
              "  });\n",
              "}\n",
              "\n",
              "/**\n",
              " * Generator function which is called between each async step of the upload\n",
              " * process.\n",
              " * @param {string} inputId Element ID of the input file picker element.\n",
              " * @param {string} outputId Element ID of the output display.\n",
              " * @return {!Iterable<!Object>} Iterable of next steps.\n",
              " */\n",
              "function* uploadFilesStep(inputId, outputId) {\n",
              "  const inputElement = document.getElementById(inputId);\n",
              "  inputElement.disabled = false;\n",
              "\n",
              "  const outputElement = document.getElementById(outputId);\n",
              "  outputElement.innerHTML = '';\n",
              "\n",
              "  const pickedPromise = new Promise((resolve) => {\n",
              "    inputElement.addEventListener('change', (e) => {\n",
              "      resolve(e.target.files);\n",
              "    });\n",
              "  });\n",
              "\n",
              "  const cancel = document.createElement('button');\n",
              "  inputElement.parentElement.appendChild(cancel);\n",
              "  cancel.textContent = 'Cancel upload';\n",
              "  const cancelPromise = new Promise((resolve) => {\n",
              "    cancel.onclick = () => {\n",
              "      resolve(null);\n",
              "    };\n",
              "  });\n",
              "\n",
              "  // Wait for the user to pick the files.\n",
              "  const files = yield {\n",
              "    promise: Promise.race([pickedPromise, cancelPromise]),\n",
              "    response: {\n",
              "      action: 'starting',\n",
              "    }\n",
              "  };\n",
              "\n",
              "  cancel.remove();\n",
              "\n",
              "  // Disable the input element since further picks are not allowed.\n",
              "  inputElement.disabled = true;\n",
              "\n",
              "  if (!files) {\n",
              "    return {\n",
              "      response: {\n",
              "        action: 'complete',\n",
              "      }\n",
              "    };\n",
              "  }\n",
              "\n",
              "  for (const file of files) {\n",
              "    const li = document.createElement('li');\n",
              "    li.append(span(file.name, {fontWeight: 'bold'}));\n",
              "    li.append(span(\n",
              "        `(${file.type || 'n/a'}) - ${file.size} bytes, ` +\n",
              "        `last modified: ${\n",
              "            file.lastModifiedDate ? file.lastModifiedDate.toLocaleDateString() :\n",
              "                                    'n/a'} - `));\n",
              "    const percent = span('0% done');\n",
              "    li.appendChild(percent);\n",
              "\n",
              "    outputElement.appendChild(li);\n",
              "\n",
              "    const fileDataPromise = new Promise((resolve) => {\n",
              "      const reader = new FileReader();\n",
              "      reader.onload = (e) => {\n",
              "        resolve(e.target.result);\n",
              "      };\n",
              "      reader.readAsArrayBuffer(file);\n",
              "    });\n",
              "    // Wait for the data to be ready.\n",
              "    let fileData = yield {\n",
              "      promise: fileDataPromise,\n",
              "      response: {\n",
              "        action: 'continue',\n",
              "      }\n",
              "    };\n",
              "\n",
              "    // Use a chunked sending to avoid message size limits. See b/62115660.\n",
              "    let position = 0;\n",
              "    do {\n",
              "      const length = Math.min(fileData.byteLength - position, MAX_PAYLOAD_SIZE);\n",
              "      const chunk = new Uint8Array(fileData, position, length);\n",
              "      position += length;\n",
              "\n",
              "      const base64 = btoa(String.fromCharCode.apply(null, chunk));\n",
              "      yield {\n",
              "        response: {\n",
              "          action: 'append',\n",
              "          file: file.name,\n",
              "          data: base64,\n",
              "        },\n",
              "      };\n",
              "\n",
              "      let percentDone = fileData.byteLength === 0 ?\n",
              "          100 :\n",
              "          Math.round((position / fileData.byteLength) * 100);\n",
              "      percent.textContent = `${percentDone}% done`;\n",
              "\n",
              "    } while (position < fileData.byteLength);\n",
              "  }\n",
              "\n",
              "  // All done.\n",
              "  yield {\n",
              "    response: {\n",
              "      action: 'complete',\n",
              "    }\n",
              "  };\n",
              "}\n",
              "\n",
              "scope.google = scope.google || {};\n",
              "scope.google.colab = scope.google.colab || {};\n",
              "scope.google.colab._files = {\n",
              "  _uploadFiles,\n",
              "  _uploadFilesContinue,\n",
              "};\n",
              "})(self);\n",
              "</script> "
            ]
          },
          "metadata": {}
        },
        {
          "output_type": "stream",
          "name": "stdout",
          "text": [
            "Saving mask.jpg to mask.jpg\n",
            "\n",
            "📂 Uploaded file: mask.jpg\n",
            "\u001b[1m1/1\u001b[0m \u001b[32m━━━━━━━━━━━━━━━━━━━━\u001b[0m\u001b[37m\u001b[0m \u001b[1m1s\u001b[0m 686ms/step\n"
          ]
        },
        {
          "output_type": "display_data",
          "data": {
            "text/plain": [
              "<Figure size 640x480 with 1 Axes>"
            ],
            "image/png": "[encoded data removed]"
          },
          "metadata": {}
        },
        {
          "output_type": "stream",
          "name": "stdout",
          "text": [
            "✅ Prediction Result: 😷 With Mask (Confidence: 1.00)\n"
          ]
        }
      ]
    },
    {
      "cell_type": "code",
      "source": [
        "# ✅ Save model in new Keras format\n",
        "model.save('face_mask_detector.keras')\n",
        "\n",
        "print(\"💾 Model saved successfully as 'face_mask_detector.keras'\")\n",
        "\n",
        "# ✅ Load the saved model\n",
        "from tensorflow.keras.models import load_model\n",
        "loaded_model = load_model('face_mask_detector.keras')\n",
        "\n",
        "# Evaluate again to confirm it's working\n",
        "loss, acc = loaded_model.evaluate(X_test, y_test)\n",
        "print(f\"🔁 Reloaded Model Accuracy: {acc * 100:.2f}%\")\n",
        "print(f\"Reloaded Model Loss: {loss:.4f}\")\n",
        "\n"
      ],
      "metadata": {
        "colab": {
          "base_uri": "https://localhost:8080/"
        },
        "id": "x5iZuHXl3P6r",
        "outputId": "16406a0e-d5e3-4637-b1f4-85a03664545c"
      },
      "execution_count": null,
      "outputs": [
        {
          "output_type": "stream",
          "name": "stdout",
          "text": [
            "💾 Model saved successfully as 'face_mask_detector.keras'\n"
          ]
        },
        {
          "output_type": "stream",
          "name": "stderr",
          "text": [
            "/usr/local/lib/python3.12/dist-packages/keras/src/saving/saving_lib.py:802: UserWarning: Skipping variable loading for optimizer 'adam', because it has 38 variables whereas the saved optimizer has 2 variables. \n",
            "  saveable.load_own_variables(weights_store.get(inner_path))\n"
          ]
        },
        {
          "output_type": "stream",
          "name": "stdout",
          "text": [
            "\u001b[1m95/95\u001b[0m \u001b[32m━━━━━━━━━━━━━━━━━━━━\u001b[0m\u001b[37m\u001b[0m \u001b[1m2s\u001b[0m 11ms/step - accuracy: 0.9756 - loss: 0.0834\n",
            "🔁 Reloaded Model Accuracy: 97.52%\n",
            "Reloaded Model Loss: 0.0816\n"
          ]
        }
      ]
    },
    {
      "cell_type": "code",
      "source": [],
      "metadata": {
        "id": "bv3NOYR33oHX"
      },
      "execution_count": null,
      "outputs": []
    }
  ]
}